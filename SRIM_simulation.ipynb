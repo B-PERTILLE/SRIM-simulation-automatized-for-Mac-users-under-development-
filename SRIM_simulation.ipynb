{
 "cells": [
  {
   "cell_type": "code",
   "execution_count": 6,
   "id": "7fa0fb8e",
   "metadata": {},
   "outputs": [
    {
     "name": "stdout",
     "output_type": "stream",
     "text": [
      "\n",
      "\n",
      "        REWRITE : \n",
      "        \n",
      "        IMPORTANT: Post-installation Edits Required for PySRIM Compatibility\n",
      "\n",
      "        After installing PySRIM, please follow these two steps to manually edit the PySRIM code.\n",
      "        The files are likely located at:\n",
      "        `anaconda3/lib/python3.11/site-packages/srim/`\n",
      "\n",
      "        1. **File: `output.py` (SRIMOutput._read_num_ions)**\n",
      "        - Modify the `_read_num_ions()` method.\n",
      "        - Replace the following line:\n",
      "                return int(float(match.group(1)))\n",
      "        - With:\n",
      "                return int(float(match.group(1).replace(b',', b'.')))\n",
      "        - This change ensures proper handling of numbers with commas as decimal separators.\n",
      "\n",
      "        2. **File: `input.py` (TRIMInput._write_ion)**\n",
      "        - Modify the `_write_ion()` method.\n",
      "        - Replace the following line:\n",
      "                self._trim.ion.energy / 1000\n",
      "        - With:\n",
      "                self._trim.ion.energy\n",
      "        - This ensures that ion energies are input directly in keV, avoiding incompatibility \n",
      "            issues with ion energies higher than 100 MeV.\n",
      "\n",
      "        Please make these changes before running any SRIM simulations with PySRIM to ensure \n",
      "        compatibility and correct energy handling.\n",
      "    \n"
     ]
    }
   ],
   "source": [
    "#!pip install pysrim\n",
    "import os, subprocess, shutil#, inspect, ast\n",
    "\n",
    "import numpy as np\n",
    "import matplotlib.pyplot as plt\n",
    "\n",
    "from importlib import reload \n",
    "\n",
    "\n",
    "import simulation_lib; reload(simulation_lib); from simulation_lib import * ; \n",
    "import aux_functions; reload(aux_functions); from aux_functions import *\n",
    "\n",
    "display_post_installation_message()\n",
    "show_functions = False; show_detailed_info = False\n",
    "if(show_functions): print_available_functions(\"simulation_lib\", show_help=show_detailed_info)\n",
    "if(show_functions): print_available_functions(\"aux_functions\", show_help=show_detailed_info)\n"
   ]
  },
  {
   "cell_type": "markdown",
   "id": "4da27414",
   "metadata": {},
   "source": [
    "# Initialization \n",
    "\n",
    "Definition of directory paths and executables. \n",
    "\n",
    "Input file (.txt) must contain these informations:\n",
    "- Isotope, (string size 2) e.g. \"Ba\" \n",
    "- Atomic number (int)\n",
    "- Energy value in keV\n",
    "- Number of ions \n",
    "\n",
    "The code is configured to also handle: \n",
    "- Ion mass (default values read from elements.yalm @ pysrim folder)\n",
    "- Bragg correction value (recommended : extracted from SRIM - by hand)\n",
    "- Angle (default value = 0°)\n",
    "- Isotope Yield (not used in simulation but in analysis)\n",
    "\n",
    "    -> Autosave number does not behave as expected: ignore.\n",
    "     \n",
    "Example of input file format found in folder. \n",
    "\n",
    "Attention to > ' ' < while typing new values, respect format for code coherence. \n",
    "    \n",
    "If a new input format is given -> user should update run_simulation() function.\n"
   ]
  },
  {
   "cell_type": "code",
   "execution_count": 7,
   "id": "de229a0b",
   "metadata": {},
   "outputs": [
    {
     "name": "stdout",
     "output_type": "stream",
     "text": [
      "input_list_path = /Users/brigitte/SRIM/input_list.txt\n",
      "\n",
      "------------------------------------------\n",
      "\n",
      "Isotope list:\n",
      " ['Br', 'Kr', 'Rb', 'Sr', 'Y', 'Zr', 'Nb', 'Mo', 'Tc', 'Ru', 'Rh', 'Pd', 'Ag', 'Cd', 'Sn', 'Sb', 'Te', 'I', 'Xe', 'Cs', 'Ba', 'La', 'Ce', 'Pr', 'Nd', 'Pm', 'Sm', 'Eu']  type= <class 'list'> \n",
      "\n",
      "FILE FORMAT:\n",
      " ['Ion:', 'Z1', 'M1', 'Energy(keV)', 'Yield', 'Angle', 'Number', 'BraggCorr', 'AutoSaveNumber']\n",
      " \n",
      " ['Kr', '36', '83,912', '104600', '1.351E-02', '0', '100', '1.004811', '100']\n",
      " \n",
      " ['Rb', '37', '84,91', '104600', '2.162E-02', '0', '100', '1.004811', '100']\n",
      " \n",
      "...\n",
      " ['Eu', '63', '152,921', '79700', '6.757E-03', '0', '100', '1.004811', '100']\n",
      "\n",
      "\n",
      "------------------------------------------\n",
      "\n"
     ]
    }
   ],
   "source": [
    "srim_path = '/Users/brigitte/SRIM/'\n",
    "\n",
    "input_list_path = os.path.join(srim_path,'input_list.txt') \n",
    "\n",
    "trim_executable = os.path.join(srim_path, \"TRIM.exe\")  # Path to TRIM executable\n",
    "\n",
    "#  FILE FORMAT:\n",
    "#  ['Ion:', 'Z1', 'M1', 'Energy(keV)', 'Yield', 'Angle', 'Number', 'BraggCorr', 'AutoSaveNumber']\n",
    "print(\"input_list_path =\", input_list_path)\n",
    "with open(input_list_path, 'r') as file:\n",
    "    input_list = file.readlines()\n",
    "\n",
    "\n",
    "isotope_list = []\n",
    "yield_list = []\n",
    "for line in input_list[1:]:\n",
    "    aux = ast.literal_eval(line)\n",
    "    # Remove brackets and split by commas, then strip whitespace\n",
    "    isotope_list.append(aux[0])\n",
    "    yield_list.append(float(aux[4]))\n",
    "\n",
    "print_line()\n",
    "\n",
    "print(\"Isotope list:\\n\",isotope_list, \" type=\",type(isotope_list),\"\\n\")\n",
    "print(\"FILE FORMAT:\\n\",input_list[0],\"\\n\",input_list[2],\"\\n\",input_list[3],\"\\n...\\n\",input_list[-1])\n",
    "\n",
    "print_line()\n"
   ]
  },
  {
   "cell_type": "markdown",
   "id": "2bb4b075",
   "metadata": {},
   "source": [
    "## Start simulation\n",
    "\n",
    "Define gas_density and layer width "
   ]
  },
  {
   "cell_type": "code",
   "execution_count": 8,
   "id": "01197ee4",
   "metadata": {},
   "outputs": [
    {
     "name": "stdout",
     "output_type": "stream",
     "text": [
      "0.000729 ± 8e-06\n"
     ]
    }
   ],
   "source": [
    "reload(simulation_lib); from simulation_lib import *  \n",
    "reload(aux_functions); from aux_functions import *\n",
    "\n",
    "layer_width = 3E8 #angstroms\n",
    "gas_temperature = 18 # °C\n",
    "gas_molar_mass = 16.04 # g/mol\n",
    "gas_pressure = 1.1 # bar\n",
    "\n",
    "ugas_temperature = 3\n",
    "ugas_pressure = 0.005\n",
    "\n",
    "gas_density = calculate_gas_density(Temp=gas_temperature,MMolar=gas_molar_mass,Pressure=gas_pressure) #input here gas info\n",
    "ugas_density = gas_density * np.sqrt( (ugas_temperature/(gas_temperature+273.15))**2 + (ugas_pressure/gas_pressure)**2 )\n",
    "gas_density, ugas_density = round_according_uncertainty(gas_density,ugas_density)\n",
    "print(gas_density, \"±\", ugas_density)\n",
    "\n",
    "# start_simulation(srim_path,input_list_path,gas_density, layer_width=layer_width)"
   ]
  },
  {
   "cell_type": "markdown",
   "id": "b905b42a",
   "metadata": {},
   "source": [
    "## Start analysis of simulation:\n",
    "\n",
    "#### Read output files to extract/calculate:\n",
    "- deposited energy;\n",
    "- electron cloud center of gravity\n",
    "- ion average range\n",
    "- ..."
   ]
  },
  {
   "cell_type": "code",
   "execution_count": 9,
   "id": "529f5081",
   "metadata": {},
   "outputs": [
    {
     "name": "stdout",
     "output_type": "stream",
     "text": [
      "Starting analysis of OUTPUTS/43Tc\n",
      "Starting analysis of OUTPUTS/61Pm\n",
      "Starting analysis of OUTPUTS/56Ba\n",
      "Starting analysis of OUTPUTS/60Nd\n",
      "Starting analysis of OUTPUTS/41Nb\n",
      "Starting analysis of OUTPUTS/44Ru\n",
      "Starting analysis of OUTPUTS/58Ce\n",
      "Starting analysis of OUTPUTS/37Rb\n",
      "Starting analysis of OUTPUTS/48Cd\n",
      "Starting analysis of OUTPUTS/63Eu\n",
      "Starting analysis of OUTPUTS/62Sm\n",
      "Starting analysis of OUTPUTS/55Cs\n",
      "Starting analysis of OUTPUTS/39Y\n",
      "Starting analysis of OUTPUTS/57La\n",
      "Starting analysis of OUTPUTS/53I\n",
      "Starting analysis of OUTPUTS/45Rh\n",
      "Starting analysis of OUTPUTS/42Mo\n",
      "Starting analysis of OUTPUTS/50Sn\n",
      "Starting analysis of OUTPUTS/46Pd\n",
      "Starting analysis of OUTPUTS/35Br\n",
      "Starting analysis of OUTPUTS/40Zr\n",
      "Starting analysis of OUTPUTS/51Sb\n",
      "Starting analysis of OUTPUTS/47Ag\n",
      "Starting analysis of OUTPUTS/59Pr\n",
      "Starting analysis of OUTPUTS/38Sr\n",
      "Starting analysis of OUTPUTS/54Xe\n",
      "Starting analysis of OUTPUTS/52Te\n",
      "Starting analysis of OUTPUTS/36Kr\n"
     ]
    },
    {
     "data": {
      "image/png": "[encoded data removed]",
      "text/plain": [
       "<Figure size 640x480 with 1 Axes>"
      ]
     },
     "metadata": {},
     "output_type": "display_data"
    },
    {
     "data": {
      "image/png": "[encoded data removed]",
      "text/plain": [
       "<Figure size 640x480 with 1 Axes>"
      ]
     },
     "metadata": {},
     "output_type": "display_data"
    },
    {
     "data": {
      "image/png": "[encoded data removed]",
      "text/plain": [
       "<Figure size 640x480 with 1 Axes>"
      ]
     },
     "metadata": {},
     "output_type": "display_data"
    },
    {
     "data": {
      "text/plain": [
       "(0.3511472811265224, 0.007877226364568833)"
      ]
     },
     "execution_count": 9,
     "metadata": {},
     "output_type": "execute_result"
    }
   ],
   "source": [
    "reload(simulation_lib); from simulation_lib import *  \n",
    "reload(aux_functions); from aux_functions import *\n",
    "\n",
    "simu_output_directories = \"OUTPUTS\"\n",
    "\n",
    "simu_output_subdirectories = subdirectories(simu_output_directories)\n",
    "\n",
    "rCG, average_range, XRratio = [],[],[]\n",
    "deposited_energy  = []\n",
    "\n",
    "for simdir in simu_output_subdirectories:\n",
    "    outdir = simu_output_directories + \"/\" + simdir\n",
    "    print(\"Starting analysis of\", outdir)\n",
    "\n",
    "    ranges_output = read_range(outdir)\n",
    "    # print(ranges_output)\n",
    "    depths, ioniz_by_ions, ioniz_by_recoils = read_ioniz(outdir)\n",
    "    \n",
    "    depths=np.array(depths)\n",
    "    ioniz_by_ions=np.array(ioniz_by_ions)\n",
    "    ioniz_by_recoils=np.array(ioniz_by_recoils)\n",
    "\n",
    "    # print(depths)\n",
    "    # print(ioniz_by_ions)\n",
    "    # print(depths*ioniz_by_ions)\n",
    "    '''\n",
    "    # number of electrons is proportional to deposited energy \n",
    "        # Né = E(r)/W\n",
    "    # the center of gravity of the electron cloud is given by Sum(r * E(r)/ W ) / Sum( E(r) / W ) => Sum( r*E(r) )/ Sum(E(r))\n",
    "    '''\n",
    "    deposited_energy.append(sum(ioniz_by_ions+ioniz_by_recoils))\n",
    "    rCG.append(sum(depths*(ioniz_by_ions+ioniz_by_recoils))/sum(ioniz_by_ions+ioniz_by_recoils))\n",
    "    # print(ranges_output[\"Ion Average Range\"])\n",
    "    average_range.append(float(ranges_output[\"Ion Average Range\"]))\n",
    "    XRratio.append(rCG[-1]/average_range[-1])\n",
    "    # print(\"   done\")\n",
    "\n",
    "plt.hist(deposited_energy)\n",
    "plt.show()\n",
    "plt.hist(average_range,30)\n",
    "plt.show()\n",
    "XRratio = np.array(XRratio)\n",
    "plt.hist(XRratio, bins=20)\n",
    "plt.show()\n",
    "\n",
    "sum(XRratio*yield_list/2), np.std(XRratio)\n",
    "\n"
   ]
  },
  {
   "cell_type": "markdown",
   "id": "0335b956",
   "metadata": {},
   "source": [
    "## Calculate simulation uncertainty "
   ]
  },
  {
   "cell_type": "code",
   "execution_count": 10,
   "id": "57878fce",
   "metadata": {},
   "outputs": [
    {
     "name": "stdout",
     "output_type": "stream",
     "text": [
      "[0.0007210000000000001, 0.000737]\n",
      "\n",
      "Starting simulation for isotope   >>> Br <<<   ...\n",
      "     editing input file ...\n",
      "Br in CH4 - pure methane\n"
     ]
    },
    {
     "name": "stderr",
     "output_type": "stream",
     "text": [
      "wineserver: using server-side synchronization.\n",
      "002c:err:winediag:getaddrinfo Failed to resolve your host name IP\n",
      "007c:fixme:hid:handle_IRP_MN_QUERY_ID Unhandled type 00000005\n",
      "007c:fixme:hid:handle_IRP_MN_QUERY_ID Unhandled type 00000005\n",
      "007c:fixme:hid:handle_IRP_MN_QUERY_ID Unhandled type 00000005\n",
      "007c:fixme:hid:handle_IRP_MN_QUERY_ID Unhandled type 00000005\n",
      "00c4:err:environ:init_peb starting L\"Z:\\\\Users\\\\brigitte\\\\SRIM\\\\TRIM.exe\" in experimental wow64 mode\n",
      "00c4:fixme:ole:OaBuildVersion Version value not known yet. Please investigate it !\n",
      "00c4:fixme:olepicture:OLEPictureImpl_SaveAsFile (00B92FA0)->(013B2118, 0, 00000000), hacked stub.\n",
      "00cc:fixme:imm:ImeSetActiveContext (0000000000010026, 0): stub\n",
      "00cc:fixme:imm:ImmReleaseContext (0000000000010020, 0000000000010026): stub\n",
      "00c4:fixme:imm:ImeSetActiveContext (0001004A, 1): stub\n",
      "00c4:fixme:imm:ImmReleaseContext (00010082, 0001004A): stub\n",
      "00c4:fixme:olepicture:OLEPictureImpl_FindConnectionPoint no connection point for {33ad4ed2-6699-11cf-b70c-00aa0060d393}\n",
      "00c4:fixme:olepicture:OLEPictureImpl_FindConnectionPoint no connection point for {33ad4ed2-6699-11cf-b70c-00aa0060d393}\n",
      "00c4:fixme:olepicture:OLEPictureImpl_FindConnectionPoint no connection point for {33ad4ed2-6699-11cf-b70c-00aa0060d393}\n",
      "00c4:fixme:olepicture:OLEPictureImpl_FindConnectionPoint no connection point for {33ad4ed2-6699-11cf-b70c-00aa0060d393}\n",
      "00c4:fixme:olepicture:OLEPictureImpl_FindConnectionPoint no connection point for {33ad4ed2-6699-11cf-b70c-00aa0060d393}\n",
      "00c4:fixme:olepicture:OLEPictureImpl_FindConnectionPoint no connection point for {33ad4ed2-6699-11cf-b70c-00aa0060d393}\n",
      "00c4:fixme:olepicture:OLEPictureImpl_FindConnectionPoint no connection point for {33ad4ed2-6699-11cf-b70c-00aa0060d393}\n",
      "00c4:fixme:olepicture:OLEPictureImpl_FindConnectionPoint no connection point for {33ad4ed2-6699-11cf-b70c-00aa0060d393}\n",
      "00c4:fixme:olepicture:OLEPictureImpl_FindConnectionPoint no connection point for {33ad4ed2-6699-11cf-b70c-00aa0060d393}\n",
      "00c4:fixme:olepicture:OLEPictureImpl_FindConnectionPoint no connection point for {33ad4ed2-6699-11cf-b70c-00aa0060d393}\n",
      "00c4:fixme:olepicture:OLEPictureImpl_FindConnectionPoint no connection point for {33ad4ed2-6699-11cf-b70c-00aa0060d393}\n"
     ]
    },
    {
     "name": "stdout",
     "output_type": "stream",
     "text": [
      "\n",
      "Starting simulation for isotope   >>> Kr <<<   ...\n",
      "     editing input file ...\n",
      "Kr in CH4 - pure methane\n"
     ]
    },
    {
     "name": "stderr",
     "output_type": "stream",
     "text": [
      "0110:err:environ:init_peb starting L\"Z:\\\\Users\\\\brigitte\\\\SRIM\\\\TRIM.exe\" in experimental wow64 mode\n",
      "0110:fixme:ole:OaBuildVersion Version value not known yet. Please investigate it !\n",
      "0110:fixme:olepicture:OLEPictureImpl_SaveAsFile (00B92FA0)->(013B2118, 0, 00000000), hacked stub.\n",
      "0110:fixme:imm:ImeSetActiveContext (000200B2, 1): stub\n",
      "0110:fixme:imm:ImmReleaseContext (0002008A, 000200B2): stub\n",
      "0110:fixme:olepicture:OLEPictureImpl_FindConnectionPoint no connection point for {33ad4ed2-6699-11cf-b70c-00aa0060d393}\n",
      "0110:fixme:olepicture:OLEPictureImpl_FindConnectionPoint no connection point for {33ad4ed2-6699-11cf-b70c-00aa0060d393}\n",
      "0110:fixme:olepicture:OLEPictureImpl_FindConnectionPoint no connection point for {33ad4ed2-6699-11cf-b70c-00aa0060d393}\n",
      "0110:fixme:olepicture:OLEPictureImpl_FindConnectionPoint no connection point for {33ad4ed2-6699-11cf-b70c-00aa0060d393}\n",
      "0110:fixme:olepicture:OLEPictureImpl_FindConnectionPoint no connection point for {33ad4ed2-6699-11cf-b70c-00aa0060d393}\n",
      "0110:fixme:olepicture:OLEPictureImpl_FindConnectionPoint no connection point for {33ad4ed2-6699-11cf-b70c-00aa0060d393}\n",
      "0110:fixme:olepicture:OLEPictureImpl_FindConnectionPoint no connection point for {33ad4ed2-6699-11cf-b70c-00aa0060d393}\n",
      "0110:fixme:olepicture:OLEPictureImpl_FindConnectionPoint no connection point for {33ad4ed2-6699-11cf-b70c-00aa0060d393}\n",
      "0110:fixme:olepicture:OLEPictureImpl_FindConnectionPoint no connection point for {33ad4ed2-6699-11cf-b70c-00aa0060d393}\n",
      "0110:fixme:olepicture:OLEPictureImpl_FindConnectionPoint no connection point for {33ad4ed2-6699-11cf-b70c-00aa0060d393}\n",
      "0110:fixme:olepicture:OLEPictureImpl_FindConnectionPoint no connection point for {33ad4ed2-6699-11cf-b70c-00aa0060d393}\n"
     ]
    },
    {
     "name": "stdout",
     "output_type": "stream",
     "text": [
      "\n",
      "Starting simulation for isotope   >>> Rb <<<   ...\n",
      "     editing input file ...\n",
      "Rb in CH4 - pure methane\n"
     ]
    },
    {
     "name": "stderr",
     "output_type": "stream",
     "text": [
      "0120:err:environ:init_peb starting L\"Z:\\\\Users\\\\brigitte\\\\SRIM\\\\TRIM.exe\" in experimental wow64 mode\n",
      "0120:fixme:ole:OaBuildVersion Version value not known yet. Please investigate it !\n",
      "0120:fixme:olepicture:OLEPictureImpl_SaveAsFile (00B92FA0)->(013B2118, 0, 00000000), hacked stub.\n",
      "0120:fixme:imm:ImeSetActiveContext (000301C0, 1): stub\n",
      "0120:fixme:imm:ImmReleaseContext (0004006A, 000301C0): stub\n",
      "0120:fixme:olepicture:OLEPictureImpl_FindConnectionPoint no connection point for {33ad4ed2-6699-11cf-b70c-00aa0060d393}\n",
      "0120:fixme:olepicture:OLEPictureImpl_FindConnectionPoint no connection point for {33ad4ed2-6699-11cf-b70c-00aa0060d393}\n",
      "0120:fixme:olepicture:OLEPictureImpl_FindConnectionPoint no connection point for {33ad4ed2-6699-11cf-b70c-00aa0060d393}\n",
      "0120:fixme:olepicture:OLEPictureImpl_FindConnectionPoint no connection point for {33ad4ed2-6699-11cf-b70c-00aa0060d393}\n",
      "0120:fixme:olepicture:OLEPictureImpl_FindConnectionPoint no connection point for {33ad4ed2-6699-11cf-b70c-00aa0060d393}\n",
      "0120:fixme:olepicture:OLEPictureImpl_FindConnectionPoint no connection point for {33ad4ed2-6699-11cf-b70c-00aa0060d393}\n",
      "0120:fixme:olepicture:OLEPictureImpl_FindConnectionPoint no connection point for {33ad4ed2-6699-11cf-b70c-00aa0060d393}\n",
      "0120:fixme:olepicture:OLEPictureImpl_FindConnectionPoint no connection point for {33ad4ed2-6699-11cf-b70c-00aa0060d393}\n",
      "0120:fixme:olepicture:OLEPictureImpl_FindConnectionPoint no connection point for {33ad4ed2-6699-11cf-b70c-00aa0060d393}\n",
      "0120:fixme:olepicture:OLEPictureImpl_FindConnectionPoint no connection point for {33ad4ed2-6699-11cf-b70c-00aa0060d393}\n",
      "0120:fixme:olepicture:OLEPictureImpl_FindConnectionPoint no connection point for {33ad4ed2-6699-11cf-b70c-00aa0060d393}\n"
     ]
    },
    {
     "name": "stdout",
     "output_type": "stream",
     "text": [
      "\n",
      "Starting simulation for isotope   >>> Sr <<<   ...\n",
      "     editing input file ...\n",
      "Sr in CH4 - pure methane\n"
     ]
    },
    {
     "name": "stderr",
     "output_type": "stream",
     "text": [
      "0130:err:environ:init_peb starting L\"Z:\\\\Users\\\\brigitte\\\\SRIM\\\\TRIM.exe\" in experimental wow64 mode\n",
      "0130:fixme:ole:OaBuildVersion Version value not known yet. Please investigate it !\n",
      "0130:fixme:olepicture:OLEPictureImpl_SaveAsFile (00B92FA0)->(013B2118, 0, 00000000), hacked stub.\n",
      "0130:fixme:imm:ImeSetActiveContext (000400CA, 1): stub\n",
      "0130:fixme:imm:ImmReleaseContext (00050088, 000400CA): stub\n",
      "0130:fixme:olepicture:OLEPictureImpl_FindConnectionPoint no connection point for {33ad4ed2-6699-11cf-b70c-00aa0060d393}\n",
      "0130:fixme:olepicture:OLEPictureImpl_FindConnectionPoint no connection point for {33ad4ed2-6699-11cf-b70c-00aa0060d393}\n",
      "0130:fixme:olepicture:OLEPictureImpl_FindConnectionPoint no connection point for {33ad4ed2-6699-11cf-b70c-00aa0060d393}\n",
      "0130:fixme:olepicture:OLEPictureImpl_FindConnectionPoint no connection point for {33ad4ed2-6699-11cf-b70c-00aa0060d393}\n",
      "0130:fixme:olepicture:OLEPictureImpl_FindConnectionPoint no connection point for {33ad4ed2-6699-11cf-b70c-00aa0060d393}\n",
      "0130:fixme:olepicture:OLEPictureImpl_FindConnectionPoint no connection point for {33ad4ed2-6699-11cf-b70c-00aa0060d393}\n",
      "0130:fixme:olepicture:OLEPictureImpl_FindConnectionPoint no connection point for {33ad4ed2-6699-11cf-b70c-00aa0060d393}\n",
      "0130:fixme:olepicture:OLEPictureImpl_FindConnectionPoint no connection point for {33ad4ed2-6699-11cf-b70c-00aa0060d393}\n",
      "0130:fixme:olepicture:OLEPictureImpl_FindConnectionPoint no connection point for {33ad4ed2-6699-11cf-b70c-00aa0060d393}\n",
      "0130:fixme:olepicture:OLEPictureImpl_FindConnectionPoint no connection point for {33ad4ed2-6699-11cf-b70c-00aa0060d393}\n",
      "0130:fixme:olepicture:OLEPictureImpl_FindConnectionPoint no connection point for {33ad4ed2-6699-11cf-b70c-00aa0060d393}\n"
     ]
    },
    {
     "name": "stdout",
     "output_type": "stream",
     "text": [
      "\n",
      "Starting simulation for isotope   >>> Y <<<   ...\n",
      "     editing input file ...\n",
      "Y in CH4 - pure methane\n"
     ]
    },
    {
     "name": "stderr",
     "output_type": "stream",
     "text": [
      "0140:err:environ:init_peb starting L\"Z:\\\\Users\\\\brigitte\\\\SRIM\\\\TRIM.exe\" in experimental wow64 mode\n",
      "0140:fixme:ole:OaBuildVersion Version value not known yet. Please investigate it !\n",
      "0140:fixme:olepicture:OLEPictureImpl_SaveAsFile (00B92FA0)->(013B2118, 0, 00000000), hacked stub.\n",
      "0140:fixme:imm:ImeSetActiveContext (000501CA, 1): stub\n",
      "0140:fixme:imm:ImmReleaseContext (00060086, 000501CA): stub\n",
      "0140:fixme:olepicture:OLEPictureImpl_FindConnectionPoint no connection point for {33ad4ed2-6699-11cf-b70c-00aa0060d393}\n",
      "0140:fixme:olepicture:OLEPictureImpl_FindConnectionPoint no connection point for {33ad4ed2-6699-11cf-b70c-00aa0060d393}\n",
      "0140:fixme:olepicture:OLEPictureImpl_FindConnectionPoint no connection point for {33ad4ed2-6699-11cf-b70c-00aa0060d393}\n",
      "0140:fixme:olepicture:OLEPictureImpl_FindConnectionPoint no connection point for {33ad4ed2-6699-11cf-b70c-00aa0060d393}\n",
      "0140:fixme:olepicture:OLEPictureImpl_FindConnectionPoint no connection point for {33ad4ed2-6699-11cf-b70c-00aa0060d393}\n",
      "0140:fixme:olepicture:OLEPictureImpl_FindConnectionPoint no connection point for {33ad4ed2-6699-11cf-b70c-00aa0060d393}\n",
      "0140:fixme:olepicture:OLEPictureImpl_FindConnectionPoint no connection point for {33ad4ed2-6699-11cf-b70c-00aa0060d393}\n",
      "0140:fixme:olepicture:OLEPictureImpl_FindConnectionPoint no connection point for {33ad4ed2-6699-11cf-b70c-00aa0060d393}\n",
      "0140:fixme:olepicture:OLEPictureImpl_FindConnectionPoint no connection point for {33ad4ed2-6699-11cf-b70c-00aa0060d393}\n",
      "0140:fixme:olepicture:OLEPictureImpl_FindConnectionPoint no connection point for {33ad4ed2-6699-11cf-b70c-00aa0060d393}\n",
      "0140:fixme:olepicture:OLEPictureImpl_FindConnectionPoint no connection point for {33ad4ed2-6699-11cf-b70c-00aa0060d393}\n"
     ]
    },
    {
     "name": "stdout",
     "output_type": "stream",
     "text": [
      "\n",
      "Starting simulation for isotope   >>> Zr <<<   ...\n",
      "     editing input file ...\n",
      "Zr in CH4 - pure methane\n"
     ]
    },
    {
     "name": "stderr",
     "output_type": "stream",
     "text": [
      "0150:err:environ:init_peb starting L\"Z:\\\\Users\\\\brigitte\\\\SRIM\\\\TRIM.exe\" in experimental wow64 mode\n",
      "0150:fixme:ole:OaBuildVersion Version value not known yet. Please investigate it !\n",
      "0150:fixme:olepicture:OLEPictureImpl_SaveAsFile (00B92FA0)->(013B2118, 0, 00000000), hacked stub.\n",
      "0150:fixme:imm:ImeSetActiveContext (000801BC, 1): stub\n",
      "0150:fixme:imm:ImmReleaseContext (00080054, 000801BC): stub\n",
      "0150:fixme:olepicture:OLEPictureImpl_FindConnectionPoint no connection point for {33ad4ed2-6699-11cf-b70c-00aa0060d393}\n",
      "0150:fixme:olepicture:OLEPictureImpl_FindConnectionPoint no connection point for {33ad4ed2-6699-11cf-b70c-00aa0060d393}\n",
      "0150:fixme:olepicture:OLEPictureImpl_FindConnectionPoint no connection point for {33ad4ed2-6699-11cf-b70c-00aa0060d393}\n",
      "0150:fixme:olepicture:OLEPictureImpl_FindConnectionPoint no connection point for {33ad4ed2-6699-11cf-b70c-00aa0060d393}\n",
      "0150:fixme:olepicture:OLEPictureImpl_FindConnectionPoint no connection point for {33ad4ed2-6699-11cf-b70c-00aa0060d393}\n",
      "0150:fixme:olepicture:OLEPictureImpl_FindConnectionPoint no connection point for {33ad4ed2-6699-11cf-b70c-00aa0060d393}\n",
      "0150:fixme:olepicture:OLEPictureImpl_FindConnectionPoint no connection point for {33ad4ed2-6699-11cf-b70c-00aa0060d393}\n",
      "0150:fixme:olepicture:OLEPictureImpl_FindConnectionPoint no connection point for {33ad4ed2-6699-11cf-b70c-00aa0060d393}\n",
      "0150:fixme:olepicture:OLEPictureImpl_FindConnectionPoint no connection point for {33ad4ed2-6699-11cf-b70c-00aa0060d393}\n",
      "0150:fixme:olepicture:OLEPictureImpl_FindConnectionPoint no connection point for {33ad4ed2-6699-11cf-b70c-00aa0060d393}\n",
      "0150:fixme:olepicture:OLEPictureImpl_FindConnectionPoint no connection point for {33ad4ed2-6699-11cf-b70c-00aa0060d393}\n"
     ]
    },
    {
     "name": "stdout",
     "output_type": "stream",
     "text": [
      "\n",
      "Starting simulation for isotope   >>> Nb <<<   ...\n",
      "     editing input file ...\n",
      "Nb in CH4 - pure methane\n"
     ]
    },
    {
     "name": "stderr",
     "output_type": "stream",
     "text": [
      "0160:err:environ:init_peb starting L\"Z:\\\\Users\\\\brigitte\\\\SRIM\\\\TRIM.exe\" in experimental wow64 mode\n",
      "0160:fixme:ole:OaBuildVersion Version value not known yet. Please investigate it !\n",
      "0160:fixme:olepicture:OLEPictureImpl_SaveAsFile (00B92FA0)->(013B2118, 0, 00000000), hacked stub.\n",
      "0160:fixme:imm:ImeSetActiveContext (000901CC, 1): stub\n",
      "0160:fixme:imm:ImmReleaseContext (0009004A, 000901CC): stub\n",
      "0160:fixme:olepicture:OLEPictureImpl_FindConnectionPoint no connection point for {33ad4ed2-6699-11cf-b70c-00aa0060d393}\n",
      "0160:fixme:olepicture:OLEPictureImpl_FindConnectionPoint no connection point for {33ad4ed2-6699-11cf-b70c-00aa0060d393}\n",
      "0160:fixme:olepicture:OLEPictureImpl_FindConnectionPoint no connection point for {33ad4ed2-6699-11cf-b70c-00aa0060d393}\n",
      "0160:fixme:olepicture:OLEPictureImpl_FindConnectionPoint no connection point for {33ad4ed2-6699-11cf-b70c-00aa0060d393}\n",
      "0160:fixme:olepicture:OLEPictureImpl_FindConnectionPoint no connection point for {33ad4ed2-6699-11cf-b70c-00aa0060d393}\n",
      "0160:fixme:olepicture:OLEPictureImpl_FindConnectionPoint no connection point for {33ad4ed2-6699-11cf-b70c-00aa0060d393}\n",
      "0160:fixme:olepicture:OLEPictureImpl_FindConnectionPoint no connection point for {33ad4ed2-6699-11cf-b70c-00aa0060d393}\n",
      "0160:fixme:olepicture:OLEPictureImpl_FindConnectionPoint no connection point for {33ad4ed2-6699-11cf-b70c-00aa0060d393}\n",
      "0160:fixme:olepicture:OLEPictureImpl_FindConnectionPoint no connection point for {33ad4ed2-6699-11cf-b70c-00aa0060d393}\n",
      "0160:fixme:olepicture:OLEPictureImpl_FindConnectionPoint no connection point for {33ad4ed2-6699-11cf-b70c-00aa0060d393}\n",
      "0160:fixme:olepicture:OLEPictureImpl_FindConnectionPoint no connection point for {33ad4ed2-6699-11cf-b70c-00aa0060d393}\n"
     ]
    },
    {
     "name": "stdout",
     "output_type": "stream",
     "text": [
      "\n",
      "Starting simulation for isotope   >>> Mo <<<   ...\n",
      "     editing input file ...\n",
      "Mo in CH4 - pure methane\n"
     ]
    },
    {
     "name": "stderr",
     "output_type": "stream",
     "text": [
      "0170:err:environ:init_peb starting L\"Z:\\\\Users\\\\brigitte\\\\SRIM\\\\TRIM.exe\" in experimental wow64 mode\n",
      "0170:fixme:ole:OaBuildVersion Version value not known yet. Please investigate it !\n",
      "0170:fixme:olepicture:OLEPictureImpl_SaveAsFile (00B92FA0)->(013B2118, 0, 00000000), hacked stub.\n",
      "0170:fixme:imm:ImeSetActiveContext (000A01BC, 1): stub\n",
      "0170:fixme:imm:ImmReleaseContext (00130092, 000A01BC): stub\n",
      "0170:fixme:olepicture:OLEPictureImpl_FindConnectionPoint no connection point for {33ad4ed2-6699-11cf-b70c-00aa0060d393}\n",
      "0170:fixme:olepicture:OLEPictureImpl_FindConnectionPoint no connection point for {33ad4ed2-6699-11cf-b70c-00aa0060d393}\n",
      "0170:fixme:olepicture:OLEPictureImpl_FindConnectionPoint no connection point for {33ad4ed2-6699-11cf-b70c-00aa0060d393}\n",
      "0170:fixme:olepicture:OLEPictureImpl_FindConnectionPoint no connection point for {33ad4ed2-6699-11cf-b70c-00aa0060d393}\n",
      "0170:fixme:olepicture:OLEPictureImpl_FindConnectionPoint no connection point for {33ad4ed2-6699-11cf-b70c-00aa0060d393}\n",
      "0170:fixme:olepicture:OLEPictureImpl_FindConnectionPoint no connection point for {33ad4ed2-6699-11cf-b70c-00aa0060d393}\n",
      "0170:fixme:olepicture:OLEPictureImpl_FindConnectionPoint no connection point for {33ad4ed2-6699-11cf-b70c-00aa0060d393}\n",
      "0170:fixme:olepicture:OLEPictureImpl_FindConnectionPoint no connection point for {33ad4ed2-6699-11cf-b70c-00aa0060d393}\n",
      "0170:fixme:olepicture:OLEPictureImpl_FindConnectionPoint no connection point for {33ad4ed2-6699-11cf-b70c-00aa0060d393}\n",
      "0170:fixme:olepicture:OLEPictureImpl_FindConnectionPoint no connection point for {33ad4ed2-6699-11cf-b70c-00aa0060d393}\n",
      "0170:fixme:olepicture:OLEPictureImpl_FindConnectionPoint no connection point for {33ad4ed2-6699-11cf-b70c-00aa0060d393}\n"
     ]
    },
    {
     "name": "stdout",
     "output_type": "stream",
     "text": [
      "\n",
      "Starting simulation for isotope   >>> Tc <<<   ...\n",
      "     editing input file ...\n",
      "Tc in CH4 - pure methane\n"
     ]
    },
    {
     "name": "stderr",
     "output_type": "stream",
     "text": [
      "0180:err:environ:init_peb starting L\"Z:\\\\Users\\\\brigitte\\\\SRIM\\\\TRIM.exe\" in experimental wow64 mode\n",
      "0180:fixme:ole:OaBuildVersion Version value not known yet. Please investigate it !\n",
      "0180:fixme:olepicture:OLEPictureImpl_SaveAsFile (00B92FA0)->(013B2118, 0, 00000000), hacked stub.\n",
      "0180:fixme:imm:ImeSetActiveContext (000B01BC, 1): stub\n",
      "0180:fixme:imm:ImmReleaseContext (000B00AE, 000B01BC): stub\n",
      "0180:fixme:olepicture:OLEPictureImpl_FindConnectionPoint no connection point for {33ad4ed2-6699-11cf-b70c-00aa0060d393}\n",
      "0180:fixme:olepicture:OLEPictureImpl_FindConnectionPoint no connection point for {33ad4ed2-6699-11cf-b70c-00aa0060d393}\n",
      "0180:fixme:olepicture:OLEPictureImpl_FindConnectionPoint no connection point for {33ad4ed2-6699-11cf-b70c-00aa0060d393}\n",
      "0180:fixme:olepicture:OLEPictureImpl_FindConnectionPoint no connection point for {33ad4ed2-6699-11cf-b70c-00aa0060d393}\n",
      "0180:fixme:olepicture:OLEPictureImpl_FindConnectionPoint no connection point for {33ad4ed2-6699-11cf-b70c-00aa0060d393}\n",
      "0180:fixme:olepicture:OLEPictureImpl_FindConnectionPoint no connection point for {33ad4ed2-6699-11cf-b70c-00aa0060d393}\n",
      "0180:fixme:olepicture:OLEPictureImpl_FindConnectionPoint no connection point for {33ad4ed2-6699-11cf-b70c-00aa0060d393}\n",
      "0180:fixme:olepicture:OLEPictureImpl_FindConnectionPoint no connection point for {33ad4ed2-6699-11cf-b70c-00aa0060d393}\n",
      "0180:fixme:olepicture:OLEPictureImpl_FindConnectionPoint no connection point for {33ad4ed2-6699-11cf-b70c-00aa0060d393}\n",
      "0180:fixme:olepicture:OLEPictureImpl_FindConnectionPoint no connection point for {33ad4ed2-6699-11cf-b70c-00aa0060d393}\n",
      "0180:fixme:olepicture:OLEPictureImpl_FindConnectionPoint no connection point for {33ad4ed2-6699-11cf-b70c-00aa0060d393}\n"
     ]
    },
    {
     "name": "stdout",
     "output_type": "stream",
     "text": [
      "\n",
      "Starting simulation for isotope   >>> Ru <<<   ...\n",
      "     editing input file ...\n",
      "Ru in CH4 - pure methane\n"
     ]
    },
    {
     "name": "stderr",
     "output_type": "stream",
     "text": [
      "0190:err:environ:init_peb starting L\"Z:\\\\Users\\\\brigitte\\\\SRIM\\\\TRIM.exe\" in experimental wow64 mode\n",
      "0190:fixme:ole:OaBuildVersion Version value not known yet. Please investigate it !\n",
      "0190:fixme:olepicture:OLEPictureImpl_SaveAsFile (00B92FA0)->(013B2118, 0, 00000000), hacked stub.\n",
      "0190:fixme:imm:ImeSetActiveContext (000A019A, 1): stub\n",
      "0190:fixme:imm:ImmReleaseContext (000C00BE, 000A019A): stub\n",
      "0190:fixme:olepicture:OLEPictureImpl_FindConnectionPoint no connection point for {33ad4ed2-6699-11cf-b70c-00aa0060d393}\n",
      "0190:fixme:olepicture:OLEPictureImpl_FindConnectionPoint no connection point for {33ad4ed2-6699-11cf-b70c-00aa0060d393}\n",
      "0190:fixme:olepicture:OLEPictureImpl_FindConnectionPoint no connection point for {33ad4ed2-6699-11cf-b70c-00aa0060d393}\n",
      "0190:fixme:olepicture:OLEPictureImpl_FindConnectionPoint no connection point for {33ad4ed2-6699-11cf-b70c-00aa0060d393}\n",
      "0190:fixme:olepicture:OLEPictureImpl_FindConnectionPoint no connection point for {33ad4ed2-6699-11cf-b70c-00aa0060d393}\n",
      "0190:fixme:olepicture:OLEPictureImpl_FindConnectionPoint no connection point for {33ad4ed2-6699-11cf-b70c-00aa0060d393}\n",
      "0190:fixme:olepicture:OLEPictureImpl_FindConnectionPoint no connection point for {33ad4ed2-6699-11cf-b70c-00aa0060d393}\n",
      "0190:fixme:olepicture:OLEPictureImpl_FindConnectionPoint no connection point for {33ad4ed2-6699-11cf-b70c-00aa0060d393}\n",
      "0190:fixme:olepicture:OLEPictureImpl_FindConnectionPoint no connection point for {33ad4ed2-6699-11cf-b70c-00aa0060d393}\n",
      "0190:fixme:olepicture:OLEPictureImpl_FindConnectionPoint no connection point for {33ad4ed2-6699-11cf-b70c-00aa0060d393}\n",
      "0190:fixme:olepicture:OLEPictureImpl_FindConnectionPoint no connection point for {33ad4ed2-6699-11cf-b70c-00aa0060d393}\n"
     ]
    },
    {
     "name": "stdout",
     "output_type": "stream",
     "text": [
      "\n",
      "Starting simulation for isotope   >>> Rh <<<   ...\n",
      "     editing input file ...\n",
      "Rh in CH4 - pure methane\n"
     ]
    },
    {
     "name": "stderr",
     "output_type": "stream",
     "text": [
      "01a0:err:environ:init_peb starting L\"Z:\\\\Users\\\\brigitte\\\\SRIM\\\\TRIM.exe\" in experimental wow64 mode\n",
      "01a0:fixme:ole:OaBuildVersion Version value not known yet. Please investigate it !\n",
      "01a0:fixme:olepicture:OLEPictureImpl_SaveAsFile (00B92FA0)->(013B2118, 0, 00000000), hacked stub.\n",
      "01a0:fixme:imm:ImeSetActiveContext (000B019A, 1): stub\n",
      "01a0:fixme:imm:ImmReleaseContext (000D009C, 000B019A): stub\n",
      "01a0:fixme:olepicture:OLEPictureImpl_FindConnectionPoint no connection point for {33ad4ed2-6699-11cf-b70c-00aa0060d393}\n",
      "01a0:fixme:olepicture:OLEPictureImpl_FindConnectionPoint no connection point for {33ad4ed2-6699-11cf-b70c-00aa0060d393}\n",
      "01a0:fixme:olepicture:OLEPictureImpl_FindConnectionPoint no connection point for {33ad4ed2-6699-11cf-b70c-00aa0060d393}\n",
      "01a0:fixme:olepicture:OLEPictureImpl_FindConnectionPoint no connection point for {33ad4ed2-6699-11cf-b70c-00aa0060d393}\n",
      "01a0:fixme:olepicture:OLEPictureImpl_FindConnectionPoint no connection point for {33ad4ed2-6699-11cf-b70c-00aa0060d393}\n",
      "01a0:fixme:olepicture:OLEPictureImpl_FindConnectionPoint no connection point for {33ad4ed2-6699-11cf-b70c-00aa0060d393}\n",
      "01a0:fixme:olepicture:OLEPictureImpl_FindConnectionPoint no connection point for {33ad4ed2-6699-11cf-b70c-00aa0060d393}\n",
      "01a0:fixme:olepicture:OLEPictureImpl_FindConnectionPoint no connection point for {33ad4ed2-6699-11cf-b70c-00aa0060d393}\n",
      "01a0:fixme:olepicture:OLEPictureImpl_FindConnectionPoint no connection point for {33ad4ed2-6699-11cf-b70c-00aa0060d393}\n",
      "01a0:fixme:olepicture:OLEPictureImpl_FindConnectionPoint no connection point for {33ad4ed2-6699-11cf-b70c-00aa0060d393}\n",
      "01a0:fixme:olepicture:OLEPictureImpl_FindConnectionPoint no connection point for {33ad4ed2-6699-11cf-b70c-00aa0060d393}\n"
     ]
    },
    {
     "name": "stdout",
     "output_type": "stream",
     "text": [
      "\n",
      "Starting simulation for isotope   >>> Pd <<<   ...\n",
      "     editing input file ...\n",
      "Pd in CH4 - pure methane\n"
     ]
    },
    {
     "name": "stderr",
     "output_type": "stream",
     "text": [
      "01b0:err:environ:init_peb starting L\"Z:\\\\Users\\\\brigitte\\\\SRIM\\\\TRIM.exe\" in experimental wow64 mode\n",
      "01b0:fixme:ole:OaBuildVersion Version value not known yet. Please investigate it !\n",
      "01b0:fixme:olepicture:OLEPictureImpl_SaveAsFile (00B92FA0)->(013B2118, 0, 00000000), hacked stub.\n",
      "01b0:fixme:imm:ImeSetActiveContext (000C019A, 1): stub\n",
      "01b0:fixme:imm:ImmReleaseContext (001000C6, 000C019A): stub\n",
      "01b0:fixme:olepicture:OLEPictureImpl_FindConnectionPoint no connection point for {33ad4ed2-6699-11cf-b70c-00aa0060d393}\n",
      "01b0:fixme:olepicture:OLEPictureImpl_FindConnectionPoint no connection point for {33ad4ed2-6699-11cf-b70c-00aa0060d393}\n",
      "01b0:fixme:olepicture:OLEPictureImpl_FindConnectionPoint no connection point for {33ad4ed2-6699-11cf-b70c-00aa0060d393}\n",
      "01b0:fixme:olepicture:OLEPictureImpl_FindConnectionPoint no connection point for {33ad4ed2-6699-11cf-b70c-00aa0060d393}\n",
      "01b0:fixme:olepicture:OLEPictureImpl_FindConnectionPoint no connection point for {33ad4ed2-6699-11cf-b70c-00aa0060d393}\n",
      "01b0:fixme:olepicture:OLEPictureImpl_FindConnectionPoint no connection point for {33ad4ed2-6699-11cf-b70c-00aa0060d393}\n",
      "01b0:fixme:olepicture:OLEPictureImpl_FindConnectionPoint no connection point for {33ad4ed2-6699-11cf-b70c-00aa0060d393}\n",
      "01b0:fixme:olepicture:OLEPictureImpl_FindConnectionPoint no connection point for {33ad4ed2-6699-11cf-b70c-00aa0060d393}\n",
      "01b0:fixme:olepicture:OLEPictureImpl_FindConnectionPoint no connection point for {33ad4ed2-6699-11cf-b70c-00aa0060d393}\n",
      "01b0:fixme:olepicture:OLEPictureImpl_FindConnectionPoint no connection point for {33ad4ed2-6699-11cf-b70c-00aa0060d393}\n",
      "01b0:fixme:olepicture:OLEPictureImpl_FindConnectionPoint no connection point for {33ad4ed2-6699-11cf-b70c-00aa0060d393}\n"
     ]
    },
    {
     "name": "stdout",
     "output_type": "stream",
     "text": [
      "\n",
      "Starting simulation for isotope   >>> Ag <<<   ...\n",
      "     editing input file ...\n",
      "Ag in CH4 - pure methane\n"
     ]
    },
    {
     "name": "stderr",
     "output_type": "stream",
     "text": [
      "01c0:err:environ:init_peb starting L\"Z:\\\\Users\\\\brigitte\\\\SRIM\\\\TRIM.exe\" in experimental wow64 mode\n",
      "01c0:fixme:ole:OaBuildVersion Version value not known yet. Please investigate it !\n",
      "01c0:fixme:olepicture:OLEPictureImpl_SaveAsFile (00B92FA0)->(013B2118, 0, 00000000), hacked stub.\n",
      "01c0:fixme:imm:ImeSetActiveContext (000D019A, 1): stub\n",
      "01c0:fixme:imm:ImmReleaseContext (000F00A0, 000D019A): stub\n",
      "01c0:fixme:olepicture:OLEPictureImpl_FindConnectionPoint no connection point for {33ad4ed2-6699-11cf-b70c-00aa0060d393}\n",
      "01c0:fixme:olepicture:OLEPictureImpl_FindConnectionPoint no connection point for {33ad4ed2-6699-11cf-b70c-00aa0060d393}\n",
      "01c0:fixme:olepicture:OLEPictureImpl_FindConnectionPoint no connection point for {33ad4ed2-6699-11cf-b70c-00aa0060d393}\n",
      "01c0:fixme:olepicture:OLEPictureImpl_FindConnectionPoint no connection point for {33ad4ed2-6699-11cf-b70c-00aa0060d393}\n",
      "01c0:fixme:olepicture:OLEPictureImpl_FindConnectionPoint no connection point for {33ad4ed2-6699-11cf-b70c-00aa0060d393}\n",
      "01c0:fixme:olepicture:OLEPictureImpl_FindConnectionPoint no connection point for {33ad4ed2-6699-11cf-b70c-00aa0060d393}\n",
      "01c0:fixme:olepicture:OLEPictureImpl_FindConnectionPoint no connection point for {33ad4ed2-6699-11cf-b70c-00aa0060d393}\n",
      "01c0:fixme:olepicture:OLEPictureImpl_FindConnectionPoint no connection point for {33ad4ed2-6699-11cf-b70c-00aa0060d393}\n",
      "01c0:fixme:olepicture:OLEPictureImpl_FindConnectionPoint no connection point for {33ad4ed2-6699-11cf-b70c-00aa0060d393}\n",
      "01c0:fixme:olepicture:OLEPictureImpl_FindConnectionPoint no connection point for {33ad4ed2-6699-11cf-b70c-00aa0060d393}\n",
      "01c0:fixme:olepicture:OLEPictureImpl_FindConnectionPoint no connection point for {33ad4ed2-6699-11cf-b70c-00aa0060d393}\n"
     ]
    },
    {
     "name": "stdout",
     "output_type": "stream",
     "text": [
      "\n",
      "Starting simulation for isotope   >>> Cd <<<   ...\n",
      "     editing input file ...\n",
      "Cd in CH4 - pure methane\n"
     ]
    },
    {
     "name": "stderr",
     "output_type": "stream",
     "text": [
      "01d0:err:environ:init_peb starting L\"Z:\\\\Users\\\\brigitte\\\\SRIM\\\\TRIM.exe\" in experimental wow64 mode\n",
      "01d0:fixme:ole:OaBuildVersion Version value not known yet. Please investigate it !\n",
      "01d0:fixme:olepicture:OLEPictureImpl_SaveAsFile (00B92FA0)->(013B2118, 0, 00000000), hacked stub.\n",
      "01d0:fixme:imm:ImeSetActiveContext (000E019A, 1): stub\n",
      "01d0:fixme:imm:ImmReleaseContext (00100072, 000E019A): stub\n",
      "01d0:fixme:olepicture:OLEPictureImpl_FindConnectionPoint no connection point for {33ad4ed2-6699-11cf-b70c-00aa0060d393}\n",
      "01d0:fixme:olepicture:OLEPictureImpl_FindConnectionPoint no connection point for {33ad4ed2-6699-11cf-b70c-00aa0060d393}\n",
      "01d0:fixme:olepicture:OLEPictureImpl_FindConnectionPoint no connection point for {33ad4ed2-6699-11cf-b70c-00aa0060d393}\n",
      "01d0:fixme:olepicture:OLEPictureImpl_FindConnectionPoint no connection point for {33ad4ed2-6699-11cf-b70c-00aa0060d393}\n",
      "01d0:fixme:olepicture:OLEPictureImpl_FindConnectionPoint no connection point for {33ad4ed2-6699-11cf-b70c-00aa0060d393}\n",
      "01d0:fixme:olepicture:OLEPictureImpl_FindConnectionPoint no connection point for {33ad4ed2-6699-11cf-b70c-00aa0060d393}\n",
      "01d0:fixme:olepicture:OLEPictureImpl_FindConnectionPoint no connection point for {33ad4ed2-6699-11cf-b70c-00aa0060d393}\n",
      "01d0:fixme:olepicture:OLEPictureImpl_FindConnectionPoint no connection point for {33ad4ed2-6699-11cf-b70c-00aa0060d393}\n",
      "01d0:fixme:olepicture:OLEPictureImpl_FindConnectionPoint no connection point for {33ad4ed2-6699-11cf-b70c-00aa0060d393}\n",
      "01d0:fixme:olepicture:OLEPictureImpl_FindConnectionPoint no connection point for {33ad4ed2-6699-11cf-b70c-00aa0060d393}\n",
      "01d0:fixme:olepicture:OLEPictureImpl_FindConnectionPoint no connection point for {33ad4ed2-6699-11cf-b70c-00aa0060d393}\n"
     ]
    },
    {
     "name": "stdout",
     "output_type": "stream",
     "text": [
      "\n",
      "Starting simulation for isotope   >>> Sn <<<   ...\n",
      "     editing input file ...\n",
      "Sn in CH4 - pure methane\n"
     ]
    },
    {
     "name": "stderr",
     "output_type": "stream",
     "text": [
      "01e0:err:environ:init_peb starting L\"Z:\\\\Users\\\\brigitte\\\\SRIM\\\\TRIM.exe\" in experimental wow64 mode\n",
      "01e0:fixme:ole:OaBuildVersion Version value not known yet. Please investigate it !\n",
      "01e0:fixme:olepicture:OLEPictureImpl_SaveAsFile (00B92FA0)->(013B2118, 0, 00000000), hacked stub.\n",
      "01e0:fixme:imm:ImeSetActiveContext (000F0196, 1): stub\n",
      "01e0:fixme:imm:ImmReleaseContext (0013009E, 000F0196): stub\n",
      "01e0:fixme:olepicture:OLEPictureImpl_FindConnectionPoint no connection point for {33ad4ed2-6699-11cf-b70c-00aa0060d393}\n",
      "01e0:fixme:olepicture:OLEPictureImpl_FindConnectionPoint no connection point for {33ad4ed2-6699-11cf-b70c-00aa0060d393}\n",
      "01e0:fixme:olepicture:OLEPictureImpl_FindConnectionPoint no connection point for {33ad4ed2-6699-11cf-b70c-00aa0060d393}\n",
      "01e0:fixme:olepicture:OLEPictureImpl_FindConnectionPoint no connection point for {33ad4ed2-6699-11cf-b70c-00aa0060d393}\n",
      "01e0:fixme:olepicture:OLEPictureImpl_FindConnectionPoint no connection point for {33ad4ed2-6699-11cf-b70c-00aa0060d393}\n",
      "01e0:fixme:olepicture:OLEPictureImpl_FindConnectionPoint no connection point for {33ad4ed2-6699-11cf-b70c-00aa0060d393}\n",
      "01e0:fixme:olepicture:OLEPictureImpl_FindConnectionPoint no connection point for {33ad4ed2-6699-11cf-b70c-00aa0060d393}\n",
      "01e0:fixme:olepicture:OLEPictureImpl_FindConnectionPoint no connection point for {33ad4ed2-6699-11cf-b70c-00aa0060d393}\n",
      "01e0:fixme:olepicture:OLEPictureImpl_FindConnectionPoint no connection point for {33ad4ed2-6699-11cf-b70c-00aa0060d393}\n",
      "01e0:fixme:olepicture:OLEPictureImpl_FindConnectionPoint no connection point for {33ad4ed2-6699-11cf-b70c-00aa0060d393}\n",
      "01e0:fixme:olepicture:OLEPictureImpl_FindConnectionPoint no connection point for {33ad4ed2-6699-11cf-b70c-00aa0060d393}\n"
     ]
    },
    {
     "name": "stdout",
     "output_type": "stream",
     "text": [
      "\n",
      "Starting simulation for isotope   >>> Sb <<<   ...\n",
      "     editing input file ...\n",
      "Sb in CH4 - pure methane\n"
     ]
    },
    {
     "name": "stderr",
     "output_type": "stream",
     "text": [
      "01f0:err:environ:init_peb starting L\"Z:\\\\Users\\\\brigitte\\\\SRIM\\\\TRIM.exe\" in experimental wow64 mode\n",
      "01f0:fixme:ole:OaBuildVersion Version value not known yet. Please investigate it !\n",
      "01f0:fixme:olepicture:OLEPictureImpl_SaveAsFile (00B92FA0)->(013B2118, 0, 00000000), hacked stub.\n",
      "01f0:fixme:imm:ImeSetActiveContext (001201A6, 1): stub\n",
      "01f0:fixme:imm:ImmReleaseContext (001D00AE, 001201A6): stub\n",
      "01f0:fixme:olepicture:OLEPictureImpl_FindConnectionPoint no connection point for {33ad4ed2-6699-11cf-b70c-00aa0060d393}\n",
      "01f0:fixme:olepicture:OLEPictureImpl_FindConnectionPoint no connection point for {33ad4ed2-6699-11cf-b70c-00aa0060d393}\n",
      "01f0:fixme:olepicture:OLEPictureImpl_FindConnectionPoint no connection point for {33ad4ed2-6699-11cf-b70c-00aa0060d393}\n",
      "01f0:fixme:olepicture:OLEPictureImpl_FindConnectionPoint no connection point for {33ad4ed2-6699-11cf-b70c-00aa0060d393}\n",
      "01f0:fixme:olepicture:OLEPictureImpl_FindConnectionPoint no connection point for {33ad4ed2-6699-11cf-b70c-00aa0060d393}\n",
      "01f0:fixme:olepicture:OLEPictureImpl_FindConnectionPoint no connection point for {33ad4ed2-6699-11cf-b70c-00aa0060d393}\n",
      "01f0:fixme:olepicture:OLEPictureImpl_FindConnectionPoint no connection point for {33ad4ed2-6699-11cf-b70c-00aa0060d393}\n",
      "01f0:fixme:olepicture:OLEPictureImpl_FindConnectionPoint no connection point for {33ad4ed2-6699-11cf-b70c-00aa0060d393}\n",
      "01f0:fixme:olepicture:OLEPictureImpl_FindConnectionPoint no connection point for {33ad4ed2-6699-11cf-b70c-00aa0060d393}\n",
      "01f0:fixme:olepicture:OLEPictureImpl_FindConnectionPoint no connection point for {33ad4ed2-6699-11cf-b70c-00aa0060d393}\n",
      "01f0:fixme:olepicture:OLEPictureImpl_FindConnectionPoint no connection point for {33ad4ed2-6699-11cf-b70c-00aa0060d393}\n"
     ]
    },
    {
     "name": "stdout",
     "output_type": "stream",
     "text": [
      "\n",
      "Starting simulation for isotope   >>> Te <<<   ...\n",
      "     editing input file ...\n",
      "Te in CH4 - pure methane\n"
     ]
    },
    {
     "name": "stderr",
     "output_type": "stream",
     "text": [
      "0200:err:environ:init_peb starting L\"Z:\\\\Users\\\\brigitte\\\\SRIM\\\\TRIM.exe\" in experimental wow64 mode\n",
      "0200:fixme:ole:OaBuildVersion Version value not known yet. Please investigate it !\n",
      "0200:fixme:olepicture:OLEPictureImpl_SaveAsFile (00B92FA0)->(013B2118, 0, 00000000), hacked stub.\n",
      "0200:fixme:imm:ImeSetActiveContext (001301A6, 1): stub\n",
      "0200:fixme:imm:ImmReleaseContext (001E00BE, 001301A6): stub\n",
      "0200:fixme:olepicture:OLEPictureImpl_FindConnectionPoint no connection point for {33ad4ed2-6699-11cf-b70c-00aa0060d393}\n",
      "0200:fixme:olepicture:OLEPictureImpl_FindConnectionPoint no connection point for {33ad4ed2-6699-11cf-b70c-00aa0060d393}\n",
      "0200:fixme:olepicture:OLEPictureImpl_FindConnectionPoint no connection point for {33ad4ed2-6699-11cf-b70c-00aa0060d393}\n",
      "0200:fixme:olepicture:OLEPictureImpl_FindConnectionPoint no connection point for {33ad4ed2-6699-11cf-b70c-00aa0060d393}\n",
      "0200:fixme:olepicture:OLEPictureImpl_FindConnectionPoint no connection point for {33ad4ed2-6699-11cf-b70c-00aa0060d393}\n",
      "0200:fixme:olepicture:OLEPictureImpl_FindConnectionPoint no connection point for {33ad4ed2-6699-11cf-b70c-00aa0060d393}\n",
      "0200:fixme:olepicture:OLEPictureImpl_FindConnectionPoint no connection point for {33ad4ed2-6699-11cf-b70c-00aa0060d393}\n",
      "0200:fixme:olepicture:OLEPictureImpl_FindConnectionPoint no connection point for {33ad4ed2-6699-11cf-b70c-00aa0060d393}\n",
      "0200:fixme:olepicture:OLEPictureImpl_FindConnectionPoint no connection point for {33ad4ed2-6699-11cf-b70c-00aa0060d393}\n",
      "0200:fixme:olepicture:OLEPictureImpl_FindConnectionPoint no connection point for {33ad4ed2-6699-11cf-b70c-00aa0060d393}\n",
      "0200:fixme:olepicture:OLEPictureImpl_FindConnectionPoint no connection point for {33ad4ed2-6699-11cf-b70c-00aa0060d393}\n"
     ]
    },
    {
     "name": "stdout",
     "output_type": "stream",
     "text": [
      "\n",
      "Starting simulation for isotope   >>> I <<<   ...\n",
      "     editing input file ...\n",
      "I in CH4 - pure methane\n"
     ]
    },
    {
     "name": "stderr",
     "output_type": "stream",
     "text": [
      "0210:err:environ:init_peb starting L\"Z:\\\\Users\\\\brigitte\\\\SRIM\\\\TRIM.exe\" in experimental wow64 mode\n",
      "0210:fixme:ole:OaBuildVersion Version value not known yet. Please investigate it !\n",
      "0210:fixme:olepicture:OLEPictureImpl_SaveAsFile (00B92FA0)->(013B2118, 0, 00000000), hacked stub.\n",
      "0210:fixme:imm:ImeSetActiveContext (001201AA, 1): stub\n",
      "0210:fixme:imm:ImmReleaseContext (001400EA, 001201AA): stub\n",
      "0210:fixme:olepicture:OLEPictureImpl_FindConnectionPoint no connection point for {33ad4ed2-6699-11cf-b70c-00aa0060d393}\n",
      "0210:fixme:olepicture:OLEPictureImpl_FindConnectionPoint no connection point for {33ad4ed2-6699-11cf-b70c-00aa0060d393}\n",
      "0210:fixme:olepicture:OLEPictureImpl_FindConnectionPoint no connection point for {33ad4ed2-6699-11cf-b70c-00aa0060d393}\n",
      "0210:fixme:olepicture:OLEPictureImpl_FindConnectionPoint no connection point for {33ad4ed2-6699-11cf-b70c-00aa0060d393}\n",
      "0210:fixme:olepicture:OLEPictureImpl_FindConnectionPoint no connection point for {33ad4ed2-6699-11cf-b70c-00aa0060d393}\n",
      "0210:fixme:olepicture:OLEPictureImpl_FindConnectionPoint no connection point for {33ad4ed2-6699-11cf-b70c-00aa0060d393}\n",
      "0210:fixme:olepicture:OLEPictureImpl_FindConnectionPoint no connection point for {33ad4ed2-6699-11cf-b70c-00aa0060d393}\n",
      "0210:fixme:olepicture:OLEPictureImpl_FindConnectionPoint no connection point for {33ad4ed2-6699-11cf-b70c-00aa0060d393}\n",
      "0210:fixme:olepicture:OLEPictureImpl_FindConnectionPoint no connection point for {33ad4ed2-6699-11cf-b70c-00aa0060d393}\n",
      "0210:fixme:olepicture:OLEPictureImpl_FindConnectionPoint no connection point for {33ad4ed2-6699-11cf-b70c-00aa0060d393}\n",
      "0210:fixme:olepicture:OLEPictureImpl_FindConnectionPoint no connection point for {33ad4ed2-6699-11cf-b70c-00aa0060d393}\n"
     ]
    },
    {
     "name": "stdout",
     "output_type": "stream",
     "text": [
      "\n",
      "Starting simulation for isotope   >>> Xe <<<   ...\n",
      "     editing input file ...\n",
      "Xe in CH4 - pure methane\n"
     ]
    },
    {
     "name": "stderr",
     "output_type": "stream",
     "text": [
      "0220:err:environ:init_peb starting L\"Z:\\\\Users\\\\brigitte\\\\SRIM\\\\TRIM.exe\" in experimental wow64 mode\n",
      "0220:fixme:ole:OaBuildVersion Version value not known yet. Please investigate it !\n",
      "0220:fixme:olepicture:OLEPictureImpl_SaveAsFile (00B92FA0)->(013B2118, 0, 00000000), hacked stub.\n",
      "0220:fixme:imm:ImeSetActiveContext (001501A6, 1): stub\n",
      "0220:fixme:imm:ImmReleaseContext (002200C6, 001501A6): stub\n",
      "0220:fixme:olepicture:OLEPictureImpl_FindConnectionPoint no connection point for {33ad4ed2-6699-11cf-b70c-00aa0060d393}\n",
      "0220:fixme:olepicture:OLEPictureImpl_FindConnectionPoint no connection point for {33ad4ed2-6699-11cf-b70c-00aa0060d393}\n",
      "0220:fixme:olepicture:OLEPictureImpl_FindConnectionPoint no connection point for {33ad4ed2-6699-11cf-b70c-00aa0060d393}\n",
      "0220:fixme:olepicture:OLEPictureImpl_FindConnectionPoint no connection point for {33ad4ed2-6699-11cf-b70c-00aa0060d393}\n",
      "0220:fixme:olepicture:OLEPictureImpl_FindConnectionPoint no connection point for {33ad4ed2-6699-11cf-b70c-00aa0060d393}\n",
      "0220:fixme:olepicture:OLEPictureImpl_FindConnectionPoint no connection point for {33ad4ed2-6699-11cf-b70c-00aa0060d393}\n",
      "0220:fixme:olepicture:OLEPictureImpl_FindConnectionPoint no connection point for {33ad4ed2-6699-11cf-b70c-00aa0060d393}\n",
      "0220:fixme:olepicture:OLEPictureImpl_FindConnectionPoint no connection point for {33ad4ed2-6699-11cf-b70c-00aa0060d393}\n",
      "0220:fixme:olepicture:OLEPictureImpl_FindConnectionPoint no connection point for {33ad4ed2-6699-11cf-b70c-00aa0060d393}\n",
      "0220:fixme:olepicture:OLEPictureImpl_FindConnectionPoint no connection point for {33ad4ed2-6699-11cf-b70c-00aa0060d393}\n",
      "0220:fixme:olepicture:OLEPictureImpl_FindConnectionPoint no connection point for {33ad4ed2-6699-11cf-b70c-00aa0060d393}\n"
     ]
    },
    {
     "name": "stdout",
     "output_type": "stream",
     "text": [
      "\n",
      "Starting simulation for isotope   >>> Cs <<<   ...\n",
      "     editing input file ...\n",
      "Cs in CH4 - pure methane\n"
     ]
    },
    {
     "name": "stderr",
     "output_type": "stream",
     "text": [
      "0230:err:environ:init_peb starting L\"Z:\\\\Users\\\\brigitte\\\\SRIM\\\\TRIM.exe\" in experimental wow64 mode\n",
      "0230:fixme:ole:OaBuildVersion Version value not known yet. Please investigate it !\n",
      "0230:fixme:olepicture:OLEPictureImpl_SaveAsFile (00B92FA0)->(013B2118, 0, 00000000), hacked stub.\n",
      "0230:fixme:imm:ImeSetActiveContext (001601BA, 1): stub\n",
      "0230:fixme:imm:ImmReleaseContext (002100A0, 001601BA): stub\n",
      "0230:fixme:olepicture:OLEPictureImpl_FindConnectionPoint no connection point for {33ad4ed2-6699-11cf-b70c-00aa0060d393}\n",
      "0230:fixme:olepicture:OLEPictureImpl_FindConnectionPoint no connection point for {33ad4ed2-6699-11cf-b70c-00aa0060d393}\n",
      "0230:fixme:olepicture:OLEPictureImpl_FindConnectionPoint no connection point for {33ad4ed2-6699-11cf-b70c-00aa0060d393}\n",
      "0230:fixme:olepicture:OLEPictureImpl_FindConnectionPoint no connection point for {33ad4ed2-6699-11cf-b70c-00aa0060d393}\n",
      "0230:fixme:olepicture:OLEPictureImpl_FindConnectionPoint no connection point for {33ad4ed2-6699-11cf-b70c-00aa0060d393}\n",
      "0230:fixme:olepicture:OLEPictureImpl_FindConnectionPoint no connection point for {33ad4ed2-6699-11cf-b70c-00aa0060d393}\n",
      "0230:fixme:olepicture:OLEPictureImpl_FindConnectionPoint no connection point for {33ad4ed2-6699-11cf-b70c-00aa0060d393}\n",
      "0230:fixme:olepicture:OLEPictureImpl_FindConnectionPoint no connection point for {33ad4ed2-6699-11cf-b70c-00aa0060d393}\n",
      "0230:fixme:olepicture:OLEPictureImpl_FindConnectionPoint no connection point for {33ad4ed2-6699-11cf-b70c-00aa0060d393}\n",
      "0230:fixme:olepicture:OLEPictureImpl_FindConnectionPoint no connection point for {33ad4ed2-6699-11cf-b70c-00aa0060d393}\n",
      "0230:fixme:olepicture:OLEPictureImpl_FindConnectionPoint no connection point for {33ad4ed2-6699-11cf-b70c-00aa0060d393}\n"
     ]
    },
    {
     "name": "stdout",
     "output_type": "stream",
     "text": [
      "\n",
      "Starting simulation for isotope   >>> Ba <<<   ...\n",
      "     editing input file ...\n",
      "Ba in CH4 - pure methane\n"
     ]
    },
    {
     "name": "stderr",
     "output_type": "stream",
     "text": [
      "0240:err:environ:init_peb starting L\"Z:\\\\Users\\\\brigitte\\\\SRIM\\\\TRIM.exe\" in experimental wow64 mode\n",
      "0240:fixme:ole:OaBuildVersion Version value not known yet. Please investigate it !\n",
      "0240:fixme:olepicture:OLEPictureImpl_SaveAsFile (00B92FA0)->(013B2118, 0, 00000000), hacked stub.\n",
      "0240:fixme:imm:ImeSetActiveContext (001701A6, 1): stub\n",
      "0240:fixme:imm:ImmReleaseContext (001800AA, 001701A6): stub\n",
      "0240:fixme:olepicture:OLEPictureImpl_FindConnectionPoint no connection point for {33ad4ed2-6699-11cf-b70c-00aa0060d393}\n",
      "0240:fixme:olepicture:OLEPictureImpl_FindConnectionPoint no connection point for {33ad4ed2-6699-11cf-b70c-00aa0060d393}\n",
      "0240:fixme:olepicture:OLEPictureImpl_FindConnectionPoint no connection point for {33ad4ed2-6699-11cf-b70c-00aa0060d393}\n",
      "0240:fixme:olepicture:OLEPictureImpl_FindConnectionPoint no connection point for {33ad4ed2-6699-11cf-b70c-00aa0060d393}\n",
      "0240:fixme:olepicture:OLEPictureImpl_FindConnectionPoint no connection point for {33ad4ed2-6699-11cf-b70c-00aa0060d393}\n",
      "0240:fixme:olepicture:OLEPictureImpl_FindConnectionPoint no connection point for {33ad4ed2-6699-11cf-b70c-00aa0060d393}\n",
      "0240:fixme:olepicture:OLEPictureImpl_FindConnectionPoint no connection point for {33ad4ed2-6699-11cf-b70c-00aa0060d393}\n",
      "0240:fixme:olepicture:OLEPictureImpl_FindConnectionPoint no connection point for {33ad4ed2-6699-11cf-b70c-00aa0060d393}\n",
      "0240:fixme:olepicture:OLEPictureImpl_FindConnectionPoint no connection point for {33ad4ed2-6699-11cf-b70c-00aa0060d393}\n",
      "0240:fixme:olepicture:OLEPictureImpl_FindConnectionPoint no connection point for {33ad4ed2-6699-11cf-b70c-00aa0060d393}\n",
      "0240:fixme:olepicture:OLEPictureImpl_FindConnectionPoint no connection point for {33ad4ed2-6699-11cf-b70c-00aa0060d393}\n"
     ]
    },
    {
     "name": "stdout",
     "output_type": "stream",
     "text": [
      "\n",
      "Starting simulation for isotope   >>> La <<<   ...\n",
      "     editing input file ...\n",
      "La in CH4 - pure methane\n"
     ]
    },
    {
     "name": "stderr",
     "output_type": "stream",
     "text": [
      "0250:err:environ:init_peb starting L\"Z:\\\\Users\\\\brigitte\\\\SRIM\\\\TRIM.exe\" in experimental wow64 mode\n",
      "0250:fixme:ole:OaBuildVersion Version value not known yet. Please investigate it !\n",
      "0250:fixme:olepicture:OLEPictureImpl_SaveAsFile (00B92FA0)->(013B2118, 0, 00000000), hacked stub.\n",
      "0250:fixme:imm:ImeSetActiveContext (001801A6, 1): stub\n",
      "0250:fixme:imm:ImmReleaseContext (001800D6, 001801A6): stub\n",
      "0250:fixme:olepicture:OLEPictureImpl_FindConnectionPoint no connection point for {33ad4ed2-6699-11cf-b70c-00aa0060d393}\n",
      "0250:fixme:olepicture:OLEPictureImpl_FindConnectionPoint no connection point for {33ad4ed2-6699-11cf-b70c-00aa0060d393}\n",
      "0250:fixme:olepicture:OLEPictureImpl_FindConnectionPoint no connection point for {33ad4ed2-6699-11cf-b70c-00aa0060d393}\n",
      "0250:fixme:olepicture:OLEPictureImpl_FindConnectionPoint no connection point for {33ad4ed2-6699-11cf-b70c-00aa0060d393}\n",
      "0250:fixme:olepicture:OLEPictureImpl_FindConnectionPoint no connection point for {33ad4ed2-6699-11cf-b70c-00aa0060d393}\n",
      "0250:fixme:olepicture:OLEPictureImpl_FindConnectionPoint no connection point for {33ad4ed2-6699-11cf-b70c-00aa0060d393}\n",
      "0250:fixme:olepicture:OLEPictureImpl_FindConnectionPoint no connection point for {33ad4ed2-6699-11cf-b70c-00aa0060d393}\n",
      "0250:fixme:olepicture:OLEPictureImpl_FindConnectionPoint no connection point for {33ad4ed2-6699-11cf-b70c-00aa0060d393}\n",
      "0250:fixme:olepicture:OLEPictureImpl_FindConnectionPoint no connection point for {33ad4ed2-6699-11cf-b70c-00aa0060d393}\n",
      "0250:fixme:olepicture:OLEPictureImpl_FindConnectionPoint no connection point for {33ad4ed2-6699-11cf-b70c-00aa0060d393}\n",
      "0250:fixme:olepicture:OLEPictureImpl_FindConnectionPoint no connection point for {33ad4ed2-6699-11cf-b70c-00aa0060d393}\n"
     ]
    },
    {
     "name": "stdout",
     "output_type": "stream",
     "text": [
      "\n",
      "Starting simulation for isotope   >>> Ce <<<   ...\n",
      "     editing input file ...\n",
      "Ce in CH4 - pure methane\n"
     ]
    },
    {
     "name": "stderr",
     "output_type": "stream",
     "text": [
      "0260:err:environ:init_peb starting L\"Z:\\\\Users\\\\brigitte\\\\SRIM\\\\TRIM.exe\" in experimental wow64 mode\n",
      "0260:fixme:ole:OaBuildVersion Version value not known yet. Please investigate it !\n",
      "0260:fixme:olepicture:OLEPictureImpl_SaveAsFile (00B92FA0)->(013B2118, 0, 00000000), hacked stub.\n",
      "0260:fixme:imm:ImeSetActiveContext (00170196, 1): stub\n",
      "0260:fixme:imm:ImmReleaseContext (002F00AE, 00170196): stub\n",
      "0260:fixme:olepicture:OLEPictureImpl_FindConnectionPoint no connection point for {33ad4ed2-6699-11cf-b70c-00aa0060d393}\n",
      "0260:fixme:olepicture:OLEPictureImpl_FindConnectionPoint no connection point for {33ad4ed2-6699-11cf-b70c-00aa0060d393}\n",
      "0260:fixme:olepicture:OLEPictureImpl_FindConnectionPoint no connection point for {33ad4ed2-6699-11cf-b70c-00aa0060d393}\n",
      "0260:fixme:olepicture:OLEPictureImpl_FindConnectionPoint no connection point for {33ad4ed2-6699-11cf-b70c-00aa0060d393}\n",
      "0260:fixme:olepicture:OLEPictureImpl_FindConnectionPoint no connection point for {33ad4ed2-6699-11cf-b70c-00aa0060d393}\n",
      "0260:fixme:olepicture:OLEPictureImpl_FindConnectionPoint no connection point for {33ad4ed2-6699-11cf-b70c-00aa0060d393}\n",
      "0260:fixme:olepicture:OLEPictureImpl_FindConnectionPoint no connection point for {33ad4ed2-6699-11cf-b70c-00aa0060d393}\n",
      "0260:fixme:olepicture:OLEPictureImpl_FindConnectionPoint no connection point for {33ad4ed2-6699-11cf-b70c-00aa0060d393}\n",
      "0260:fixme:olepicture:OLEPictureImpl_FindConnectionPoint no connection point for {33ad4ed2-6699-11cf-b70c-00aa0060d393}\n",
      "0260:fixme:olepicture:OLEPictureImpl_FindConnectionPoint no connection point for {33ad4ed2-6699-11cf-b70c-00aa0060d393}\n",
      "0260:fixme:olepicture:OLEPictureImpl_FindConnectionPoint no connection point for {33ad4ed2-6699-11cf-b70c-00aa0060d393}\n"
     ]
    },
    {
     "name": "stdout",
     "output_type": "stream",
     "text": [
      "\n",
      "Starting simulation for isotope   >>> Pr <<<   ...\n",
      "     editing input file ...\n",
      "Pr in CH4 - pure methane\n"
     ]
    },
    {
     "name": "stderr",
     "output_type": "stream",
     "text": [
      "0270:err:environ:init_peb starting L\"Z:\\\\Users\\\\brigitte\\\\SRIM\\\\TRIM.exe\" in experimental wow64 mode\n",
      "0270:fixme:ole:OaBuildVersion Version value not known yet. Please investigate it !\n",
      "0270:fixme:olepicture:OLEPictureImpl_SaveAsFile (00B92FA0)->(013B2118, 0, 00000000), hacked stub.\n",
      "0270:fixme:imm:ImeSetActiveContext (00180196, 1): stub\n",
      "0270:fixme:imm:ImmReleaseContext (003000BE, 00180196): stub\n",
      "0270:fixme:olepicture:OLEPictureImpl_FindConnectionPoint no connection point for {33ad4ed2-6699-11cf-b70c-00aa0060d393}\n",
      "0270:fixme:olepicture:OLEPictureImpl_FindConnectionPoint no connection point for {33ad4ed2-6699-11cf-b70c-00aa0060d393}\n",
      "0270:fixme:olepicture:OLEPictureImpl_FindConnectionPoint no connection point for {33ad4ed2-6699-11cf-b70c-00aa0060d393}\n",
      "0270:fixme:olepicture:OLEPictureImpl_FindConnectionPoint no connection point for {33ad4ed2-6699-11cf-b70c-00aa0060d393}\n",
      "0270:fixme:olepicture:OLEPictureImpl_FindConnectionPoint no connection point for {33ad4ed2-6699-11cf-b70c-00aa0060d393}\n",
      "0270:fixme:olepicture:OLEPictureImpl_FindConnectionPoint no connection point for {33ad4ed2-6699-11cf-b70c-00aa0060d393}\n",
      "0270:fixme:olepicture:OLEPictureImpl_FindConnectionPoint no connection point for {33ad4ed2-6699-11cf-b70c-00aa0060d393}\n",
      "0270:fixme:olepicture:OLEPictureImpl_FindConnectionPoint no connection point for {33ad4ed2-6699-11cf-b70c-00aa0060d393}\n",
      "0270:fixme:olepicture:OLEPictureImpl_FindConnectionPoint no connection point for {33ad4ed2-6699-11cf-b70c-00aa0060d393}\n",
      "0270:fixme:olepicture:OLEPictureImpl_FindConnectionPoint no connection point for {33ad4ed2-6699-11cf-b70c-00aa0060d393}\n",
      "0270:fixme:olepicture:OLEPictureImpl_FindConnectionPoint no connection point for {33ad4ed2-6699-11cf-b70c-00aa0060d393}\n"
     ]
    },
    {
     "name": "stdout",
     "output_type": "stream",
     "text": [
      "\n",
      "Starting simulation for isotope   >>> Nd <<<   ...\n",
      "     editing input file ...\n",
      "Nd in CH4 - pure methane\n"
     ]
    },
    {
     "name": "stderr",
     "output_type": "stream",
     "text": [
      "0280:err:environ:init_peb starting L\"Z:\\\\Users\\\\brigitte\\\\SRIM\\\\TRIM.exe\" in experimental wow64 mode\n",
      "0280:fixme:ole:OaBuildVersion Version value not known yet. Please investigate it !\n",
      "0280:fixme:olepicture:OLEPictureImpl_SaveAsFile (00B92FA0)->(013B2118, 0, 00000000), hacked stub.\n",
      "0280:fixme:imm:ImeSetActiveContext (002400D6, 1): stub\n",
      "0280:fixme:imm:ImmReleaseContext (001D00D8, 002400D6): stub\n",
      "0280:fixme:olepicture:OLEPictureImpl_FindConnectionPoint no connection point for {33ad4ed2-6699-11cf-b70c-00aa0060d393}\n",
      "0280:fixme:olepicture:OLEPictureImpl_FindConnectionPoint no connection point for {33ad4ed2-6699-11cf-b70c-00aa0060d393}\n",
      "0280:fixme:olepicture:OLEPictureImpl_FindConnectionPoint no connection point for {33ad4ed2-6699-11cf-b70c-00aa0060d393}\n",
      "0280:fixme:olepicture:OLEPictureImpl_FindConnectionPoint no connection point for {33ad4ed2-6699-11cf-b70c-00aa0060d393}\n",
      "0280:fixme:olepicture:OLEPictureImpl_FindConnectionPoint no connection point for {33ad4ed2-6699-11cf-b70c-00aa0060d393}\n",
      "0280:fixme:olepicture:OLEPictureImpl_FindConnectionPoint no connection point for {33ad4ed2-6699-11cf-b70c-00aa0060d393}\n",
      "0280:fixme:olepicture:OLEPictureImpl_FindConnectionPoint no connection point for {33ad4ed2-6699-11cf-b70c-00aa0060d393}\n",
      "0280:fixme:olepicture:OLEPictureImpl_FindConnectionPoint no connection point for {33ad4ed2-6699-11cf-b70c-00aa0060d393}\n",
      "0280:fixme:olepicture:OLEPictureImpl_FindConnectionPoint no connection point for {33ad4ed2-6699-11cf-b70c-00aa0060d393}\n",
      "0280:fixme:olepicture:OLEPictureImpl_FindConnectionPoint no connection point for {33ad4ed2-6699-11cf-b70c-00aa0060d393}\n",
      "0280:fixme:olepicture:OLEPictureImpl_FindConnectionPoint no connection point for {33ad4ed2-6699-11cf-b70c-00aa0060d393}\n"
     ]
    },
    {
     "name": "stdout",
     "output_type": "stream",
     "text": [
      "\n",
      "Starting simulation for isotope   >>> Pm <<<   ...\n",
      "     editing input file ...\n",
      "Pm in CH4 - pure methane\n"
     ]
    },
    {
     "name": "stderr",
     "output_type": "stream",
     "text": [
      "0290:err:environ:init_peb starting L\"Z:\\\\Users\\\\brigitte\\\\SRIM\\\\TRIM.exe\" in experimental wow64 mode\n",
      "0290:fixme:ole:OaBuildVersion Version value not known yet. Please investigate it !\n",
      "0290:fixme:olepicture:OLEPictureImpl_SaveAsFile (00B92FA0)->(013B2118, 0, 00000000), hacked stub.\n",
      "0290:fixme:imm:ImeSetActiveContext (002500D6, 1): stub\n",
      "0290:fixme:imm:ImmReleaseContext (001D00C0, 002500D6): stub\n",
      "0290:fixme:olepicture:OLEPictureImpl_FindConnectionPoint no connection point for {33ad4ed2-6699-11cf-b70c-00aa0060d393}\n",
      "0290:fixme:olepicture:OLEPictureImpl_FindConnectionPoint no connection point for {33ad4ed2-6699-11cf-b70c-00aa0060d393}\n",
      "0290:fixme:olepicture:OLEPictureImpl_FindConnectionPoint no connection point for {33ad4ed2-6699-11cf-b70c-00aa0060d393}\n",
      "0290:fixme:olepicture:OLEPictureImpl_FindConnectionPoint no connection point for {33ad4ed2-6699-11cf-b70c-00aa0060d393}\n",
      "0290:fixme:olepicture:OLEPictureImpl_FindConnectionPoint no connection point for {33ad4ed2-6699-11cf-b70c-00aa0060d393}\n",
      "0290:fixme:olepicture:OLEPictureImpl_FindConnectionPoint no connection point for {33ad4ed2-6699-11cf-b70c-00aa0060d393}\n",
      "0290:fixme:olepicture:OLEPictureImpl_FindConnectionPoint no connection point for {33ad4ed2-6699-11cf-b70c-00aa0060d393}\n",
      "0290:fixme:olepicture:OLEPictureImpl_FindConnectionPoint no connection point for {33ad4ed2-6699-11cf-b70c-00aa0060d393}\n",
      "0290:fixme:olepicture:OLEPictureImpl_FindConnectionPoint no connection point for {33ad4ed2-6699-11cf-b70c-00aa0060d393}\n",
      "0290:fixme:olepicture:OLEPictureImpl_FindConnectionPoint no connection point for {33ad4ed2-6699-11cf-b70c-00aa0060d393}\n",
      "0290:fixme:olepicture:OLEPictureImpl_FindConnectionPoint no connection point for {33ad4ed2-6699-11cf-b70c-00aa0060d393}\n"
     ]
    },
    {
     "name": "stdout",
     "output_type": "stream",
     "text": [
      "\n",
      "Starting simulation for isotope   >>> Sm <<<   ...\n",
      "     editing input file ...\n",
      "Sm in CH4 - pure methane\n"
     ]
    },
    {
     "name": "stderr",
     "output_type": "stream",
     "text": [
      "02a0:err:environ:init_peb starting L\"Z:\\\\Users\\\\brigitte\\\\SRIM\\\\TRIM.exe\" in experimental wow64 mode\n",
      "02a0:fixme:ole:OaBuildVersion Version value not known yet. Please investigate it !\n",
      "02a0:fixme:olepicture:OLEPictureImpl_SaveAsFile (00B92FA0)->(013B2118, 0, 00000000), hacked stub.\n",
      "02a0:fixme:imm:ImeSetActiveContext (002800D8, 1): stub\n",
      "02a0:fixme:imm:ImmReleaseContext (00310092, 002800D8): stub\n",
      "02a0:fixme:olepicture:OLEPictureImpl_FindConnectionPoint no connection point for {33ad4ed2-6699-11cf-b70c-00aa0060d393}\n",
      "02a0:fixme:olepicture:OLEPictureImpl_FindConnectionPoint no connection point for {33ad4ed2-6699-11cf-b70c-00aa0060d393}\n",
      "02a0:fixme:olepicture:OLEPictureImpl_FindConnectionPoint no connection point for {33ad4ed2-6699-11cf-b70c-00aa0060d393}\n",
      "02a0:fixme:olepicture:OLEPictureImpl_FindConnectionPoint no connection point for {33ad4ed2-6699-11cf-b70c-00aa0060d393}\n",
      "02a0:fixme:olepicture:OLEPictureImpl_FindConnectionPoint no connection point for {33ad4ed2-6699-11cf-b70c-00aa0060d393}\n",
      "02a0:fixme:olepicture:OLEPictureImpl_FindConnectionPoint no connection point for {33ad4ed2-6699-11cf-b70c-00aa0060d393}\n",
      "02a0:fixme:olepicture:OLEPictureImpl_FindConnectionPoint no connection point for {33ad4ed2-6699-11cf-b70c-00aa0060d393}\n",
      "02a0:fixme:olepicture:OLEPictureImpl_FindConnectionPoint no connection point for {33ad4ed2-6699-11cf-b70c-00aa0060d393}\n",
      "02a0:fixme:olepicture:OLEPictureImpl_FindConnectionPoint no connection point for {33ad4ed2-6699-11cf-b70c-00aa0060d393}\n",
      "02a0:fixme:olepicture:OLEPictureImpl_FindConnectionPoint no connection point for {33ad4ed2-6699-11cf-b70c-00aa0060d393}\n",
      "02a0:fixme:olepicture:OLEPictureImpl_FindConnectionPoint no connection point for {33ad4ed2-6699-11cf-b70c-00aa0060d393}\n"
     ]
    },
    {
     "name": "stdout",
     "output_type": "stream",
     "text": [
      "\n",
      "Starting simulation for isotope   >>> Eu <<<   ...\n",
      "     editing input file ...\n",
      "Eu in CH4 - pure methane\n"
     ]
    },
    {
     "name": "stderr",
     "output_type": "stream",
     "text": [
      "02b0:err:environ:init_peb starting L\"Z:\\\\Users\\\\brigitte\\\\SRIM\\\\TRIM.exe\" in experimental wow64 mode\n",
      "02b0:fixme:ole:OaBuildVersion Version value not known yet. Please investigate it !\n",
      "02b0:fixme:olepicture:OLEPictureImpl_SaveAsFile (00B92FA0)->(013B2118, 0, 00000000), hacked stub.\n",
      "02b0:fixme:imm:ImeSetActiveContext (002900D8, 1): stub\n",
      "02b0:fixme:imm:ImmReleaseContext (001E008E, 002900D8): stub\n",
      "02b0:fixme:olepicture:OLEPictureImpl_FindConnectionPoint no connection point for {33ad4ed2-6699-11cf-b70c-00aa0060d393}\n",
      "02b0:fixme:olepicture:OLEPictureImpl_FindConnectionPoint no connection point for {33ad4ed2-6699-11cf-b70c-00aa0060d393}\n",
      "02b0:fixme:olepicture:OLEPictureImpl_FindConnectionPoint no connection point for {33ad4ed2-6699-11cf-b70c-00aa0060d393}\n",
      "02b0:fixme:olepicture:OLEPictureImpl_FindConnectionPoint no connection point for {33ad4ed2-6699-11cf-b70c-00aa0060d393}\n",
      "02b0:fixme:olepicture:OLEPictureImpl_FindConnectionPoint no connection point for {33ad4ed2-6699-11cf-b70c-00aa0060d393}\n",
      "02b0:fixme:olepicture:OLEPictureImpl_FindConnectionPoint no connection point for {33ad4ed2-6699-11cf-b70c-00aa0060d393}\n",
      "02b0:fixme:olepicture:OLEPictureImpl_FindConnectionPoint no connection point for {33ad4ed2-6699-11cf-b70c-00aa0060d393}\n",
      "02b0:fixme:olepicture:OLEPictureImpl_FindConnectionPoint no connection point for {33ad4ed2-6699-11cf-b70c-00aa0060d393}\n",
      "02b0:fixme:olepicture:OLEPictureImpl_FindConnectionPoint no connection point for {33ad4ed2-6699-11cf-b70c-00aa0060d393}\n",
      "02b0:fixme:olepicture:OLEPictureImpl_FindConnectionPoint no connection point for {33ad4ed2-6699-11cf-b70c-00aa0060d393}\n",
      "02b0:fixme:olepicture:OLEPictureImpl_FindConnectionPoint no connection point for {33ad4ed2-6699-11cf-b70c-00aa0060d393}\n"
     ]
    },
    {
     "name": "stdout",
     "output_type": "stream",
     "text": [
      "   done\n",
      "Simulation complete\n"
     ]
    },
    {
     "data": {
      "image/png": "[encoded data removed]",
      "text/plain": [
       "<Figure size 640x480 with 1 Axes>"
      ]
     },
     "metadata": {},
     "output_type": "display_data"
    },
    {
     "name": "stdout",
     "output_type": "stream",
     "text": [
      "weighted stddev of ratios: 0.34795741217197323 \n",
      "simple stddev of ratios: 0.00781901060136355\n",
      "\n",
      "Starting simulation for isotope   >>> Br <<<   ...\n",
      "     editing input file ...\n",
      "Br in CH4 - pure methane\n"
     ]
    },
    {
     "name": "stderr",
     "output_type": "stream",
     "text": [
      "02c0:err:environ:init_peb starting L\"Z:\\\\Users\\\\brigitte\\\\SRIM\\\\TRIM.exe\" in experimental wow64 mode\n",
      "02c0:fixme:ole:OaBuildVersion Version value not known yet. Please investigate it !\n",
      "02c0:fixme:olepicture:OLEPictureImpl_SaveAsFile (00B92FA0)->(013B2118, 0, 00000000), hacked stub.\n",
      "02c0:fixme:imm:ImeSetActiveContext (0020018E, 1): stub\n",
      "02c0:fixme:imm:ImmReleaseContext (001F01DE, 0020018E): stub\n",
      "02c0:fixme:olepicture:OLEPictureImpl_FindConnectionPoint no connection point for {33ad4ed2-6699-11cf-b70c-00aa0060d393}\n",
      "02c0:fixme:olepicture:OLEPictureImpl_FindConnectionPoint no connection point for {33ad4ed2-6699-11cf-b70c-00aa0060d393}\n",
      "02c0:fixme:olepicture:OLEPictureImpl_FindConnectionPoint no connection point for {33ad4ed2-6699-11cf-b70c-00aa0060d393}\n",
      "02c0:fixme:olepicture:OLEPictureImpl_FindConnectionPoint no connection point for {33ad4ed2-6699-11cf-b70c-00aa0060d393}\n",
      "02c0:fixme:olepicture:OLEPictureImpl_FindConnectionPoint no connection point for {33ad4ed2-6699-11cf-b70c-00aa0060d393}\n",
      "02c0:fixme:olepicture:OLEPictureImpl_FindConnectionPoint no connection point for {33ad4ed2-6699-11cf-b70c-00aa0060d393}\n",
      "02c0:fixme:olepicture:OLEPictureImpl_FindConnectionPoint no connection point for {33ad4ed2-6699-11cf-b70c-00aa0060d393}\n",
      "02c0:fixme:olepicture:OLEPictureImpl_FindConnectionPoint no connection point for {33ad4ed2-6699-11cf-b70c-00aa0060d393}\n",
      "02c0:fixme:olepicture:OLEPictureImpl_FindConnectionPoint no connection point for {33ad4ed2-6699-11cf-b70c-00aa0060d393}\n",
      "02c0:fixme:olepicture:OLEPictureImpl_FindConnectionPoint no connection point for {33ad4ed2-6699-11cf-b70c-00aa0060d393}\n",
      "02c0:fixme:olepicture:OLEPictureImpl_FindConnectionPoint no connection point for {33ad4ed2-6699-11cf-b70c-00aa0060d393}\n"
     ]
    },
    {
     "name": "stdout",
     "output_type": "stream",
     "text": [
      "\n",
      "Starting simulation for isotope   >>> Kr <<<   ...\n",
      "     editing input file ...\n",
      "Kr in CH4 - pure methane\n"
     ]
    },
    {
     "name": "stderr",
     "output_type": "stream",
     "text": [
      "02d0:err:environ:init_peb starting L\"Z:\\\\Users\\\\brigitte\\\\SRIM\\\\TRIM.exe\" in experimental wow64 mode\n",
      "02d0:fixme:ole:OaBuildVersion Version value not known yet. Please investigate it !\n",
      "02d0:fixme:olepicture:OLEPictureImpl_SaveAsFile (00B92FA0)->(013B2118, 0, 00000000), hacked stub.\n",
      "02d0:fixme:imm:ImeSetActiveContext (002001B0, 1): stub\n",
      "02d0:fixme:imm:ImmReleaseContext (00270090, 002001B0): stub\n",
      "02d0:fixme:olepicture:OLEPictureImpl_FindConnectionPoint no connection point for {33ad4ed2-6699-11cf-b70c-00aa0060d393}\n",
      "02d0:fixme:olepicture:OLEPictureImpl_FindConnectionPoint no connection point for {33ad4ed2-6699-11cf-b70c-00aa0060d393}\n",
      "02d0:fixme:olepicture:OLEPictureImpl_FindConnectionPoint no connection point for {33ad4ed2-6699-11cf-b70c-00aa0060d393}\n",
      "02d0:fixme:olepicture:OLEPictureImpl_FindConnectionPoint no connection point for {33ad4ed2-6699-11cf-b70c-00aa0060d393}\n",
      "02d0:fixme:olepicture:OLEPictureImpl_FindConnectionPoint no connection point for {33ad4ed2-6699-11cf-b70c-00aa0060d393}\n",
      "02d0:fixme:olepicture:OLEPictureImpl_FindConnectionPoint no connection point for {33ad4ed2-6699-11cf-b70c-00aa0060d393}\n",
      "02d0:fixme:olepicture:OLEPictureImpl_FindConnectionPoint no connection point for {33ad4ed2-6699-11cf-b70c-00aa0060d393}\n",
      "02d0:fixme:olepicture:OLEPictureImpl_FindConnectionPoint no connection point for {33ad4ed2-6699-11cf-b70c-00aa0060d393}\n",
      "02d0:fixme:olepicture:OLEPictureImpl_FindConnectionPoint no connection point for {33ad4ed2-6699-11cf-b70c-00aa0060d393}\n",
      "02d0:fixme:olepicture:OLEPictureImpl_FindConnectionPoint no connection point for {33ad4ed2-6699-11cf-b70c-00aa0060d393}\n",
      "02d0:fixme:olepicture:OLEPictureImpl_FindConnectionPoint no connection point for {33ad4ed2-6699-11cf-b70c-00aa0060d393}\n"
     ]
    },
    {
     "name": "stdout",
     "output_type": "stream",
     "text": [
      "\n",
      "Starting simulation for isotope   >>> Rb <<<   ...\n",
      "     editing input file ...\n",
      "Rb in CH4 - pure methane\n"
     ]
    },
    {
     "name": "stderr",
     "output_type": "stream",
     "text": [
      "02e0:err:environ:init_peb starting L\"Z:\\\\Users\\\\brigitte\\\\SRIM\\\\TRIM.exe\" in experimental wow64 mode\n",
      "02e0:fixme:ole:OaBuildVersion Version value not known yet. Please investigate it !\n",
      "02e0:fixme:olepicture:OLEPictureImpl_SaveAsFile (00B92FA0)->(013B2118, 0, 00000000), hacked stub.\n",
      "02e0:fixme:imm:ImeSetActiveContext (002101BA, 1): stub\n",
      "02e0:fixme:imm:ImmReleaseContext (0023009A, 002101BA): stub\n",
      "02e0:fixme:olepicture:OLEPictureImpl_FindConnectionPoint no connection point for {33ad4ed2-6699-11cf-b70c-00aa0060d393}\n",
      "02e0:fixme:olepicture:OLEPictureImpl_FindConnectionPoint no connection point for {33ad4ed2-6699-11cf-b70c-00aa0060d393}\n",
      "02e0:fixme:olepicture:OLEPictureImpl_FindConnectionPoint no connection point for {33ad4ed2-6699-11cf-b70c-00aa0060d393}\n",
      "02e0:fixme:olepicture:OLEPictureImpl_FindConnectionPoint no connection point for {33ad4ed2-6699-11cf-b70c-00aa0060d393}\n",
      "02e0:fixme:olepicture:OLEPictureImpl_FindConnectionPoint no connection point for {33ad4ed2-6699-11cf-b70c-00aa0060d393}\n",
      "02e0:fixme:olepicture:OLEPictureImpl_FindConnectionPoint no connection point for {33ad4ed2-6699-11cf-b70c-00aa0060d393}\n",
      "02e0:fixme:olepicture:OLEPictureImpl_FindConnectionPoint no connection point for {33ad4ed2-6699-11cf-b70c-00aa0060d393}\n",
      "02e0:fixme:olepicture:OLEPictureImpl_FindConnectionPoint no connection point for {33ad4ed2-6699-11cf-b70c-00aa0060d393}\n",
      "02e0:fixme:olepicture:OLEPictureImpl_FindConnectionPoint no connection point for {33ad4ed2-6699-11cf-b70c-00aa0060d393}\n",
      "02e0:fixme:olepicture:OLEPictureImpl_FindConnectionPoint no connection point for {33ad4ed2-6699-11cf-b70c-00aa0060d393}\n",
      "02e0:fixme:olepicture:OLEPictureImpl_FindConnectionPoint no connection point for {33ad4ed2-6699-11cf-b70c-00aa0060d393}\n"
     ]
    },
    {
     "name": "stdout",
     "output_type": "stream",
     "text": [
      "\n",
      "Starting simulation for isotope   >>> Sr <<<   ...\n",
      "     editing input file ...\n",
      "Sr in CH4 - pure methane\n"
     ]
    },
    {
     "name": "stderr",
     "output_type": "stream",
     "text": [
      "02f0:err:environ:init_peb starting L\"Z:\\\\Users\\\\brigitte\\\\SRIM\\\\TRIM.exe\" in experimental wow64 mode\n",
      "02f0:fixme:ole:OaBuildVersion Version value not known yet. Please investigate it !\n",
      "02f0:fixme:olepicture:OLEPictureImpl_SaveAsFile (00B92FA0)->(013B2118, 0, 00000000), hacked stub.\n",
      "02f0:fixme:imm:ImeSetActiveContext (002001B2, 1): stub\n",
      "02f0:fixme:imm:ImmReleaseContext (00200082, 002001B2): stub\n",
      "02f0:fixme:olepicture:OLEPictureImpl_FindConnectionPoint no connection point for {33ad4ed2-6699-11cf-b70c-00aa0060d393}\n",
      "02f0:fixme:olepicture:OLEPictureImpl_FindConnectionPoint no connection point for {33ad4ed2-6699-11cf-b70c-00aa0060d393}\n",
      "02f0:fixme:olepicture:OLEPictureImpl_FindConnectionPoint no connection point for {33ad4ed2-6699-11cf-b70c-00aa0060d393}\n",
      "02f0:fixme:olepicture:OLEPictureImpl_FindConnectionPoint no connection point for {33ad4ed2-6699-11cf-b70c-00aa0060d393}\n",
      "02f0:fixme:olepicture:OLEPictureImpl_FindConnectionPoint no connection point for {33ad4ed2-6699-11cf-b70c-00aa0060d393}\n",
      "02f0:fixme:olepicture:OLEPictureImpl_FindConnectionPoint no connection point for {33ad4ed2-6699-11cf-b70c-00aa0060d393}\n",
      "02f0:fixme:olepicture:OLEPictureImpl_FindConnectionPoint no connection point for {33ad4ed2-6699-11cf-b70c-00aa0060d393}\n",
      "02f0:fixme:olepicture:OLEPictureImpl_FindConnectionPoint no connection point for {33ad4ed2-6699-11cf-b70c-00aa0060d393}\n",
      "02f0:fixme:olepicture:OLEPictureImpl_FindConnectionPoint no connection point for {33ad4ed2-6699-11cf-b70c-00aa0060d393}\n",
      "02f0:fixme:olepicture:OLEPictureImpl_FindConnectionPoint no connection point for {33ad4ed2-6699-11cf-b70c-00aa0060d393}\n",
      "02f0:fixme:olepicture:OLEPictureImpl_FindConnectionPoint no connection point for {33ad4ed2-6699-11cf-b70c-00aa0060d393}\n"
     ]
    },
    {
     "name": "stdout",
     "output_type": "stream",
     "text": [
      "\n",
      "Starting simulation for isotope   >>> Y <<<   ...\n",
      "     editing input file ...\n",
      "Y in CH4 - pure methane\n"
     ]
    },
    {
     "name": "stderr",
     "output_type": "stream",
     "text": [
      "0300:err:environ:init_peb starting L\"Z:\\\\Users\\\\brigitte\\\\SRIM\\\\TRIM.exe\" in experimental wow64 mode\n",
      "0300:fixme:ole:OaBuildVersion Version value not known yet. Please investigate it !\n",
      "0300:fixme:olepicture:OLEPictureImpl_SaveAsFile (00B92FA0)->(013B2118, 0, 00000000), hacked stub.\n",
      "0300:fixme:imm:ImeSetActiveContext (002101B2, 1): stub\n",
      "0300:fixme:imm:ImmReleaseContext (002E00EA, 002101B2): stub\n",
      "0300:fixme:olepicture:OLEPictureImpl_FindConnectionPoint no connection point for {33ad4ed2-6699-11cf-b70c-00aa0060d393}\n",
      "0300:fixme:olepicture:OLEPictureImpl_FindConnectionPoint no connection point for {33ad4ed2-6699-11cf-b70c-00aa0060d393}\n",
      "0300:fixme:olepicture:OLEPictureImpl_FindConnectionPoint no connection point for {33ad4ed2-6699-11cf-b70c-00aa0060d393}\n",
      "0300:fixme:olepicture:OLEPictureImpl_FindConnectionPoint no connection point for {33ad4ed2-6699-11cf-b70c-00aa0060d393}\n",
      "0300:fixme:olepicture:OLEPictureImpl_FindConnectionPoint no connection point for {33ad4ed2-6699-11cf-b70c-00aa0060d393}\n",
      "0300:fixme:olepicture:OLEPictureImpl_FindConnectionPoint no connection point for {33ad4ed2-6699-11cf-b70c-00aa0060d393}\n",
      "0300:fixme:olepicture:OLEPictureImpl_FindConnectionPoint no connection point for {33ad4ed2-6699-11cf-b70c-00aa0060d393}\n",
      "0300:fixme:olepicture:OLEPictureImpl_FindConnectionPoint no connection point for {33ad4ed2-6699-11cf-b70c-00aa0060d393}\n",
      "0300:fixme:olepicture:OLEPictureImpl_FindConnectionPoint no connection point for {33ad4ed2-6699-11cf-b70c-00aa0060d393}\n",
      "0300:fixme:olepicture:OLEPictureImpl_FindConnectionPoint no connection point for {33ad4ed2-6699-11cf-b70c-00aa0060d393}\n",
      "0300:fixme:olepicture:OLEPictureImpl_FindConnectionPoint no connection point for {33ad4ed2-6699-11cf-b70c-00aa0060d393}\n"
     ]
    },
    {
     "name": "stdout",
     "output_type": "stream",
     "text": [
      "\n",
      "Starting simulation for isotope   >>> Zr <<<   ...\n",
      "     editing input file ...\n",
      "Zr in CH4 - pure methane\n"
     ]
    },
    {
     "name": "stderr",
     "output_type": "stream",
     "text": [
      "0310:err:environ:init_peb starting L\"Z:\\\\Users\\\\brigitte\\\\SRIM\\\\TRIM.exe\" in experimental wow64 mode\n",
      "0310:fixme:ole:OaBuildVersion Version value not known yet. Please investigate it !\n",
      "0310:fixme:olepicture:OLEPictureImpl_SaveAsFile (00B92FA0)->(013B2118, 0, 00000000), hacked stub.\n",
      "0310:fixme:imm:ImeSetActiveContext (002201B2, 1): stub\n",
      "0310:fixme:imm:ImmReleaseContext (002501CE, 002201B2): stub\n",
      "0310:fixme:olepicture:OLEPictureImpl_FindConnectionPoint no connection point for {33ad4ed2-6699-11cf-b70c-00aa0060d393}\n",
      "0310:fixme:olepicture:OLEPictureImpl_FindConnectionPoint no connection point for {33ad4ed2-6699-11cf-b70c-00aa0060d393}\n",
      "0310:fixme:olepicture:OLEPictureImpl_FindConnectionPoint no connection point for {33ad4ed2-6699-11cf-b70c-00aa0060d393}\n",
      "0310:fixme:olepicture:OLEPictureImpl_FindConnectionPoint no connection point for {33ad4ed2-6699-11cf-b70c-00aa0060d393}\n",
      "0310:fixme:olepicture:OLEPictureImpl_FindConnectionPoint no connection point for {33ad4ed2-6699-11cf-b70c-00aa0060d393}\n",
      "0310:fixme:olepicture:OLEPictureImpl_FindConnectionPoint no connection point for {33ad4ed2-6699-11cf-b70c-00aa0060d393}\n",
      "0310:fixme:olepicture:OLEPictureImpl_FindConnectionPoint no connection point for {33ad4ed2-6699-11cf-b70c-00aa0060d393}\n",
      "0310:fixme:olepicture:OLEPictureImpl_FindConnectionPoint no connection point for {33ad4ed2-6699-11cf-b70c-00aa0060d393}\n",
      "0310:fixme:olepicture:OLEPictureImpl_FindConnectionPoint no connection point for {33ad4ed2-6699-11cf-b70c-00aa0060d393}\n",
      "0310:fixme:olepicture:OLEPictureImpl_FindConnectionPoint no connection point for {33ad4ed2-6699-11cf-b70c-00aa0060d393}\n",
      "0310:fixme:olepicture:OLEPictureImpl_FindConnectionPoint no connection point for {33ad4ed2-6699-11cf-b70c-00aa0060d393}\n"
     ]
    },
    {
     "name": "stdout",
     "output_type": "stream",
     "text": [
      "\n",
      "Starting simulation for isotope   >>> Nb <<<   ...\n",
      "     editing input file ...\n",
      "Nb in CH4 - pure methane\n"
     ]
    },
    {
     "name": "stderr",
     "output_type": "stream",
     "text": [
      "0320:err:environ:init_peb starting L\"Z:\\\\Users\\\\brigitte\\\\SRIM\\\\TRIM.exe\" in experimental wow64 mode\n",
      "0320:fixme:ole:OaBuildVersion Version value not known yet. Please investigate it !\n",
      "0320:fixme:olepicture:OLEPictureImpl_SaveAsFile (00B92FA0)->(013B2118, 0, 00000000), hacked stub.\n",
      "0320:fixme:imm:ImeSetActiveContext (002501D4, 1): stub\n",
      "0320:fixme:imm:ImmReleaseContext (002B0198, 002501D4): stub\n",
      "0320:fixme:olepicture:OLEPictureImpl_FindConnectionPoint no connection point for {33ad4ed2-6699-11cf-b70c-00aa0060d393}\n",
      "0320:fixme:olepicture:OLEPictureImpl_FindConnectionPoint no connection point for {33ad4ed2-6699-11cf-b70c-00aa0060d393}\n",
      "0320:fixme:olepicture:OLEPictureImpl_FindConnectionPoint no connection point for {33ad4ed2-6699-11cf-b70c-00aa0060d393}\n",
      "0320:fixme:olepicture:OLEPictureImpl_FindConnectionPoint no connection point for {33ad4ed2-6699-11cf-b70c-00aa0060d393}\n",
      "0320:fixme:olepicture:OLEPictureImpl_FindConnectionPoint no connection point for {33ad4ed2-6699-11cf-b70c-00aa0060d393}\n",
      "0320:fixme:olepicture:OLEPictureImpl_FindConnectionPoint no connection point for {33ad4ed2-6699-11cf-b70c-00aa0060d393}\n",
      "0320:fixme:olepicture:OLEPictureImpl_FindConnectionPoint no connection point for {33ad4ed2-6699-11cf-b70c-00aa0060d393}\n",
      "0320:fixme:olepicture:OLEPictureImpl_FindConnectionPoint no connection point for {33ad4ed2-6699-11cf-b70c-00aa0060d393}\n",
      "0320:fixme:olepicture:OLEPictureImpl_FindConnectionPoint no connection point for {33ad4ed2-6699-11cf-b70c-00aa0060d393}\n",
      "0320:fixme:olepicture:OLEPictureImpl_FindConnectionPoint no connection point for {33ad4ed2-6699-11cf-b70c-00aa0060d393}\n",
      "0320:fixme:olepicture:OLEPictureImpl_FindConnectionPoint no connection point for {33ad4ed2-6699-11cf-b70c-00aa0060d393}\n"
     ]
    },
    {
     "name": "stdout",
     "output_type": "stream",
     "text": [
      "\n",
      "Starting simulation for isotope   >>> Mo <<<   ...\n",
      "     editing input file ...\n",
      "Mo in CH4 - pure methane\n"
     ]
    },
    {
     "name": "stderr",
     "output_type": "stream",
     "text": [
      "0330:err:environ:init_peb starting L\"Z:\\\\Users\\\\brigitte\\\\SRIM\\\\TRIM.exe\" in experimental wow64 mode\n",
      "0330:fixme:ole:OaBuildVersion Version value not known yet. Please investigate it !\n",
      "0330:fixme:olepicture:OLEPictureImpl_SaveAsFile (00B92FA0)->(013B2118, 0, 00000000), hacked stub.\n",
      "0330:fixme:imm:ImeSetActiveContext (002501D2, 1): stub\n",
      "0330:fixme:imm:ImmReleaseContext (0026005A, 002501D2): stub\n",
      "0330:fixme:olepicture:OLEPictureImpl_FindConnectionPoint no connection point for {33ad4ed2-6699-11cf-b70c-00aa0060d393}\n",
      "0330:fixme:olepicture:OLEPictureImpl_FindConnectionPoint no connection point for {33ad4ed2-6699-11cf-b70c-00aa0060d393}\n",
      "0330:fixme:olepicture:OLEPictureImpl_FindConnectionPoint no connection point for {33ad4ed2-6699-11cf-b70c-00aa0060d393}\n",
      "0330:fixme:olepicture:OLEPictureImpl_FindConnectionPoint no connection point for {33ad4ed2-6699-11cf-b70c-00aa0060d393}\n",
      "0330:fixme:olepicture:OLEPictureImpl_FindConnectionPoint no connection point for {33ad4ed2-6699-11cf-b70c-00aa0060d393}\n",
      "0330:fixme:olepicture:OLEPictureImpl_FindConnectionPoint no connection point for {33ad4ed2-6699-11cf-b70c-00aa0060d393}\n",
      "0330:fixme:olepicture:OLEPictureImpl_FindConnectionPoint no connection point for {33ad4ed2-6699-11cf-b70c-00aa0060d393}\n",
      "0330:fixme:olepicture:OLEPictureImpl_FindConnectionPoint no connection point for {33ad4ed2-6699-11cf-b70c-00aa0060d393}\n",
      "0330:fixme:olepicture:OLEPictureImpl_FindConnectionPoint no connection point for {33ad4ed2-6699-11cf-b70c-00aa0060d393}\n",
      "0330:fixme:olepicture:OLEPictureImpl_FindConnectionPoint no connection point for {33ad4ed2-6699-11cf-b70c-00aa0060d393}\n",
      "0330:fixme:olepicture:OLEPictureImpl_FindConnectionPoint no connection point for {33ad4ed2-6699-11cf-b70c-00aa0060d393}\n"
     ]
    },
    {
     "name": "stdout",
     "output_type": "stream",
     "text": [
      "\n",
      "Starting simulation for isotope   >>> Tc <<<   ...\n",
      "     editing input file ...\n",
      "Tc in CH4 - pure methane\n"
     ]
    },
    {
     "name": "stderr",
     "output_type": "stream",
     "text": [
      "0340:err:environ:init_peb starting L\"Z:\\\\Users\\\\brigitte\\\\SRIM\\\\TRIM.exe\" in experimental wow64 mode\n",
      "0340:fixme:ole:OaBuildVersion Version value not known yet. Please investigate it !\n",
      "0340:fixme:olepicture:OLEPictureImpl_SaveAsFile (00B92FA0)->(013B2118, 0, 00000000), hacked stub.\n",
      "0340:fixme:imm:ImeSetActiveContext (002601D2, 1): stub\n",
      "0340:fixme:imm:ImmReleaseContext (00390090, 002601D2): stub\n",
      "0340:fixme:olepicture:OLEPictureImpl_FindConnectionPoint no connection point for {33ad4ed2-6699-11cf-b70c-00aa0060d393}\n",
      "0340:fixme:olepicture:OLEPictureImpl_FindConnectionPoint no connection point for {33ad4ed2-6699-11cf-b70c-00aa0060d393}\n",
      "0340:fixme:olepicture:OLEPictureImpl_FindConnectionPoint no connection point for {33ad4ed2-6699-11cf-b70c-00aa0060d393}\n",
      "0340:fixme:olepicture:OLEPictureImpl_FindConnectionPoint no connection point for {33ad4ed2-6699-11cf-b70c-00aa0060d393}\n",
      "0340:fixme:olepicture:OLEPictureImpl_FindConnectionPoint no connection point for {33ad4ed2-6699-11cf-b70c-00aa0060d393}\n",
      "0340:fixme:olepicture:OLEPictureImpl_FindConnectionPoint no connection point for {33ad4ed2-6699-11cf-b70c-00aa0060d393}\n",
      "0340:fixme:olepicture:OLEPictureImpl_FindConnectionPoint no connection point for {33ad4ed2-6699-11cf-b70c-00aa0060d393}\n",
      "0340:fixme:olepicture:OLEPictureImpl_FindConnectionPoint no connection point for {33ad4ed2-6699-11cf-b70c-00aa0060d393}\n",
      "0340:fixme:olepicture:OLEPictureImpl_FindConnectionPoint no connection point for {33ad4ed2-6699-11cf-b70c-00aa0060d393}\n",
      "0340:fixme:olepicture:OLEPictureImpl_FindConnectionPoint no connection point for {33ad4ed2-6699-11cf-b70c-00aa0060d393}\n",
      "0340:fixme:olepicture:OLEPictureImpl_FindConnectionPoint no connection point for {33ad4ed2-6699-11cf-b70c-00aa0060d393}\n"
     ]
    },
    {
     "name": "stdout",
     "output_type": "stream",
     "text": [
      "\n",
      "Starting simulation for isotope   >>> Ru <<<   ...\n",
      "     editing input file ...\n",
      "Ru in CH4 - pure methane\n"
     ]
    },
    {
     "name": "stderr",
     "output_type": "stream",
     "text": [
      "0350:err:environ:init_peb starting L\"Z:\\\\Users\\\\brigitte\\\\SRIM\\\\TRIM.exe\" in experimental wow64 mode\n",
      "0350:fixme:ole:OaBuildVersion Version value not known yet. Please investigate it !\n",
      "0350:fixme:olepicture:OLEPictureImpl_SaveAsFile (00B92FA0)->(013B2118, 0, 00000000), hacked stub.\n",
      "0350:fixme:imm:ImeSetActiveContext (003201CE, 1): stub\n",
      "0350:fixme:imm:ImmReleaseContext (004900BE, 003201CE): stub\n",
      "0350:fixme:olepicture:OLEPictureImpl_FindConnectionPoint no connection point for {33ad4ed2-6699-11cf-b70c-00aa0060d393}\n",
      "0350:fixme:olepicture:OLEPictureImpl_FindConnectionPoint no connection point for {33ad4ed2-6699-11cf-b70c-00aa0060d393}\n",
      "0350:fixme:olepicture:OLEPictureImpl_FindConnectionPoint no connection point for {33ad4ed2-6699-11cf-b70c-00aa0060d393}\n",
      "0350:fixme:olepicture:OLEPictureImpl_FindConnectionPoint no connection point for {33ad4ed2-6699-11cf-b70c-00aa0060d393}\n",
      "0350:fixme:olepicture:OLEPictureImpl_FindConnectionPoint no connection point for {33ad4ed2-6699-11cf-b70c-00aa0060d393}\n",
      "0350:fixme:olepicture:OLEPictureImpl_FindConnectionPoint no connection point for {33ad4ed2-6699-11cf-b70c-00aa0060d393}\n",
      "0350:fixme:olepicture:OLEPictureImpl_FindConnectionPoint no connection point for {33ad4ed2-6699-11cf-b70c-00aa0060d393}\n",
      "0350:fixme:olepicture:OLEPictureImpl_FindConnectionPoint no connection point for {33ad4ed2-6699-11cf-b70c-00aa0060d393}\n",
      "0350:fixme:olepicture:OLEPictureImpl_FindConnectionPoint no connection point for {33ad4ed2-6699-11cf-b70c-00aa0060d393}\n",
      "0350:fixme:olepicture:OLEPictureImpl_FindConnectionPoint no connection point for {33ad4ed2-6699-11cf-b70c-00aa0060d393}\n",
      "0350:fixme:olepicture:OLEPictureImpl_FindConnectionPoint no connection point for {33ad4ed2-6699-11cf-b70c-00aa0060d393}\n"
     ]
    },
    {
     "name": "stdout",
     "output_type": "stream",
     "text": [
      "\n",
      "Starting simulation for isotope   >>> Rh <<<   ...\n",
      "     editing input file ...\n",
      "Rh in CH4 - pure methane\n"
     ]
    },
    {
     "name": "stderr",
     "output_type": "stream",
     "text": [
      "0360:err:environ:init_peb starting L\"Z:\\\\Users\\\\brigitte\\\\SRIM\\\\TRIM.exe\" in experimental wow64 mode\n",
      "0360:fixme:ole:OaBuildVersion Version value not known yet. Please investigate it !\n",
      "0360:fixme:olepicture:OLEPictureImpl_SaveAsFile (00B92FA0)->(013B2118, 0, 00000000), hacked stub.\n",
      "0360:fixme:imm:ImeSetActiveContext (002901C8, 1): stub\n",
      "0360:fixme:imm:ImmReleaseContext (002A0098, 002901C8): stub\n",
      "0360:fixme:olepicture:OLEPictureImpl_FindConnectionPoint no connection point for {33ad4ed2-6699-11cf-b70c-00aa0060d393}\n",
      "0360:fixme:olepicture:OLEPictureImpl_FindConnectionPoint no connection point for {33ad4ed2-6699-11cf-b70c-00aa0060d393}\n",
      "0360:fixme:olepicture:OLEPictureImpl_FindConnectionPoint no connection point for {33ad4ed2-6699-11cf-b70c-00aa0060d393}\n",
      "0360:fixme:olepicture:OLEPictureImpl_FindConnectionPoint no connection point for {33ad4ed2-6699-11cf-b70c-00aa0060d393}\n",
      "0360:fixme:olepicture:OLEPictureImpl_FindConnectionPoint no connection point for {33ad4ed2-6699-11cf-b70c-00aa0060d393}\n",
      "0360:fixme:olepicture:OLEPictureImpl_FindConnectionPoint no connection point for {33ad4ed2-6699-11cf-b70c-00aa0060d393}\n",
      "0360:fixme:olepicture:OLEPictureImpl_FindConnectionPoint no connection point for {33ad4ed2-6699-11cf-b70c-00aa0060d393}\n",
      "0360:fixme:olepicture:OLEPictureImpl_FindConnectionPoint no connection point for {33ad4ed2-6699-11cf-b70c-00aa0060d393}\n",
      "0360:fixme:olepicture:OLEPictureImpl_FindConnectionPoint no connection point for {33ad4ed2-6699-11cf-b70c-00aa0060d393}\n",
      "0360:fixme:olepicture:OLEPictureImpl_FindConnectionPoint no connection point for {33ad4ed2-6699-11cf-b70c-00aa0060d393}\n",
      "0360:fixme:olepicture:OLEPictureImpl_FindConnectionPoint no connection point for {33ad4ed2-6699-11cf-b70c-00aa0060d393}\n"
     ]
    },
    {
     "name": "stdout",
     "output_type": "stream",
     "text": [
      "\n",
      "Starting simulation for isotope   >>> Pd <<<   ...\n",
      "     editing input file ...\n",
      "Pd in CH4 - pure methane\n"
     ]
    },
    {
     "name": "stderr",
     "output_type": "stream",
     "text": [
      "0370:err:environ:init_peb starting L\"Z:\\\\Users\\\\brigitte\\\\SRIM\\\\TRIM.exe\" in experimental wow64 mode\n",
      "0370:fixme:ole:OaBuildVersion Version value not known yet. Please investigate it !\n",
      "0370:fixme:olepicture:OLEPictureImpl_SaveAsFile (00B92FA0)->(013B2118, 0, 00000000), hacked stub.\n",
      "0370:fixme:imm:ImeSetActiveContext (002B01BE, 1): stub\n",
      "0370:fixme:imm:ImmReleaseContext (002C01B0, 002B01BE): stub\n",
      "0370:fixme:olepicture:OLEPictureImpl_FindConnectionPoint no connection point for {33ad4ed2-6699-11cf-b70c-00aa0060d393}\n",
      "0370:fixme:olepicture:OLEPictureImpl_FindConnectionPoint no connection point for {33ad4ed2-6699-11cf-b70c-00aa0060d393}\n",
      "0370:fixme:olepicture:OLEPictureImpl_FindConnectionPoint no connection point for {33ad4ed2-6699-11cf-b70c-00aa0060d393}\n",
      "0370:fixme:olepicture:OLEPictureImpl_FindConnectionPoint no connection point for {33ad4ed2-6699-11cf-b70c-00aa0060d393}\n",
      "0370:fixme:olepicture:OLEPictureImpl_FindConnectionPoint no connection point for {33ad4ed2-6699-11cf-b70c-00aa0060d393}\n",
      "0370:fixme:olepicture:OLEPictureImpl_FindConnectionPoint no connection point for {33ad4ed2-6699-11cf-b70c-00aa0060d393}\n",
      "0370:fixme:olepicture:OLEPictureImpl_FindConnectionPoint no connection point for {33ad4ed2-6699-11cf-b70c-00aa0060d393}\n",
      "0370:fixme:olepicture:OLEPictureImpl_FindConnectionPoint no connection point for {33ad4ed2-6699-11cf-b70c-00aa0060d393}\n",
      "0370:fixme:olepicture:OLEPictureImpl_FindConnectionPoint no connection point for {33ad4ed2-6699-11cf-b70c-00aa0060d393}\n",
      "0370:fixme:olepicture:OLEPictureImpl_FindConnectionPoint no connection point for {33ad4ed2-6699-11cf-b70c-00aa0060d393}\n",
      "0370:fixme:olepicture:OLEPictureImpl_FindConnectionPoint no connection point for {33ad4ed2-6699-11cf-b70c-00aa0060d393}\n"
     ]
    },
    {
     "name": "stdout",
     "output_type": "stream",
     "text": [
      "\n",
      "Starting simulation for isotope   >>> Ag <<<   ...\n",
      "     editing input file ...\n",
      "Ag in CH4 - pure methane\n"
     ]
    },
    {
     "name": "stderr",
     "output_type": "stream",
     "text": [
      "0380:err:environ:init_peb starting L\"Z:\\\\Users\\\\brigitte\\\\SRIM\\\\TRIM.exe\" in experimental wow64 mode\n",
      "0380:fixme:ole:OaBuildVersion Version value not known yet. Please investigate it !\n",
      "0380:fixme:olepicture:OLEPictureImpl_SaveAsFile (00B92FA0)->(013B2118, 0, 00000000), hacked stub.\n",
      "0380:fixme:imm:ImeSetActiveContext (002C01BE, 1): stub\n",
      "0380:fixme:imm:ImmReleaseContext (002B00A6, 002C01BE): stub\n",
      "0380:fixme:olepicture:OLEPictureImpl_FindConnectionPoint no connection point for {33ad4ed2-6699-11cf-b70c-00aa0060d393}\n",
      "0380:fixme:olepicture:OLEPictureImpl_FindConnectionPoint no connection point for {33ad4ed2-6699-11cf-b70c-00aa0060d393}\n",
      "0380:fixme:olepicture:OLEPictureImpl_FindConnectionPoint no connection point for {33ad4ed2-6699-11cf-b70c-00aa0060d393}\n",
      "0380:fixme:olepicture:OLEPictureImpl_FindConnectionPoint no connection point for {33ad4ed2-6699-11cf-b70c-00aa0060d393}\n",
      "0380:fixme:olepicture:OLEPictureImpl_FindConnectionPoint no connection point for {33ad4ed2-6699-11cf-b70c-00aa0060d393}\n",
      "0380:fixme:olepicture:OLEPictureImpl_FindConnectionPoint no connection point for {33ad4ed2-6699-11cf-b70c-00aa0060d393}\n",
      "0380:fixme:olepicture:OLEPictureImpl_FindConnectionPoint no connection point for {33ad4ed2-6699-11cf-b70c-00aa0060d393}\n",
      "0380:fixme:olepicture:OLEPictureImpl_FindConnectionPoint no connection point for {33ad4ed2-6699-11cf-b70c-00aa0060d393}\n",
      "0380:fixme:olepicture:OLEPictureImpl_FindConnectionPoint no connection point for {33ad4ed2-6699-11cf-b70c-00aa0060d393}\n",
      "0380:fixme:olepicture:OLEPictureImpl_FindConnectionPoint no connection point for {33ad4ed2-6699-11cf-b70c-00aa0060d393}\n",
      "0380:fixme:olepicture:OLEPictureImpl_FindConnectionPoint no connection point for {33ad4ed2-6699-11cf-b70c-00aa0060d393}\n"
     ]
    },
    {
     "name": "stdout",
     "output_type": "stream",
     "text": [
      "\n",
      "Starting simulation for isotope   >>> Cd <<<   ...\n",
      "     editing input file ...\n",
      "Cd in CH4 - pure methane\n"
     ]
    },
    {
     "name": "stderr",
     "output_type": "stream",
     "text": [
      "0390:err:environ:init_peb starting L\"Z:\\\\Users\\\\brigitte\\\\SRIM\\\\TRIM.exe\" in experimental wow64 mode\n",
      "0390:fixme:ole:OaBuildVersion Version value not known yet. Please investigate it !\n",
      "0390:fixme:olepicture:OLEPictureImpl_SaveAsFile (00B92FA0)->(013B2118, 0, 00000000), hacked stub.\n",
      "0390:fixme:imm:ImeSetActiveContext (002D01BE, 1): stub\n",
      "0390:fixme:imm:ImmReleaseContext (003601CE, 002D01BE): stub\n",
      "0390:fixme:olepicture:OLEPictureImpl_FindConnectionPoint no connection point for {33ad4ed2-6699-11cf-b70c-00aa0060d393}\n",
      "0390:fixme:olepicture:OLEPictureImpl_FindConnectionPoint no connection point for {33ad4ed2-6699-11cf-b70c-00aa0060d393}\n",
      "0390:fixme:olepicture:OLEPictureImpl_FindConnectionPoint no connection point for {33ad4ed2-6699-11cf-b70c-00aa0060d393}\n",
      "0390:fixme:olepicture:OLEPictureImpl_FindConnectionPoint no connection point for {33ad4ed2-6699-11cf-b70c-00aa0060d393}\n",
      "0390:fixme:olepicture:OLEPictureImpl_FindConnectionPoint no connection point for {33ad4ed2-6699-11cf-b70c-00aa0060d393}\n",
      "0390:fixme:olepicture:OLEPictureImpl_FindConnectionPoint no connection point for {33ad4ed2-6699-11cf-b70c-00aa0060d393}\n",
      "0390:fixme:olepicture:OLEPictureImpl_FindConnectionPoint no connection point for {33ad4ed2-6699-11cf-b70c-00aa0060d393}\n",
      "0390:fixme:olepicture:OLEPictureImpl_FindConnectionPoint no connection point for {33ad4ed2-6699-11cf-b70c-00aa0060d393}\n",
      "0390:fixme:olepicture:OLEPictureImpl_FindConnectionPoint no connection point for {33ad4ed2-6699-11cf-b70c-00aa0060d393}\n",
      "0390:fixme:olepicture:OLEPictureImpl_FindConnectionPoint no connection point for {33ad4ed2-6699-11cf-b70c-00aa0060d393}\n",
      "0390:fixme:olepicture:OLEPictureImpl_FindConnectionPoint no connection point for {33ad4ed2-6699-11cf-b70c-00aa0060d393}\n"
     ]
    },
    {
     "name": "stdout",
     "output_type": "stream",
     "text": [
      "\n",
      "Starting simulation for isotope   >>> Sn <<<   ...\n",
      "     editing input file ...\n",
      "Sn in CH4 - pure methane\n"
     ]
    },
    {
     "name": "stderr",
     "output_type": "stream",
     "text": [
      "03a0:err:environ:init_peb starting L\"Z:\\\\Users\\\\brigitte\\\\SRIM\\\\TRIM.exe\" in experimental wow64 mode\n",
      "03a0:fixme:ole:OaBuildVersion Version value not known yet. Please investigate it !\n",
      "03a0:fixme:olepicture:OLEPictureImpl_SaveAsFile (00B92FA0)->(013B2118, 0, 00000000), hacked stub.\n",
      "03a0:fixme:imm:ImeSetActiveContext (002E01BE, 1): stub\n",
      "03a0:fixme:imm:ImmReleaseContext (002D01C8, 002E01BE): stub\n",
      "03a0:fixme:olepicture:OLEPictureImpl_FindConnectionPoint no connection point for {33ad4ed2-6699-11cf-b70c-00aa0060d393}\n",
      "03a0:fixme:olepicture:OLEPictureImpl_FindConnectionPoint no connection point for {33ad4ed2-6699-11cf-b70c-00aa0060d393}\n",
      "03a0:fixme:olepicture:OLEPictureImpl_FindConnectionPoint no connection point for {33ad4ed2-6699-11cf-b70c-00aa0060d393}\n",
      "03a0:fixme:olepicture:OLEPictureImpl_FindConnectionPoint no connection point for {33ad4ed2-6699-11cf-b70c-00aa0060d393}\n",
      "03a0:fixme:olepicture:OLEPictureImpl_FindConnectionPoint no connection point for {33ad4ed2-6699-11cf-b70c-00aa0060d393}\n",
      "03a0:fixme:olepicture:OLEPictureImpl_FindConnectionPoint no connection point for {33ad4ed2-6699-11cf-b70c-00aa0060d393}\n",
      "03a0:fixme:olepicture:OLEPictureImpl_FindConnectionPoint no connection point for {33ad4ed2-6699-11cf-b70c-00aa0060d393}\n",
      "03a0:fixme:olepicture:OLEPictureImpl_FindConnectionPoint no connection point for {33ad4ed2-6699-11cf-b70c-00aa0060d393}\n",
      "03a0:fixme:olepicture:OLEPictureImpl_FindConnectionPoint no connection point for {33ad4ed2-6699-11cf-b70c-00aa0060d393}\n",
      "03a0:fixme:olepicture:OLEPictureImpl_FindConnectionPoint no connection point for {33ad4ed2-6699-11cf-b70c-00aa0060d393}\n",
      "03a0:fixme:olepicture:OLEPictureImpl_FindConnectionPoint no connection point for {33ad4ed2-6699-11cf-b70c-00aa0060d393}\n"
     ]
    },
    {
     "name": "stdout",
     "output_type": "stream",
     "text": [
      "\n",
      "Starting simulation for isotope   >>> Sb <<<   ...\n",
      "     editing input file ...\n",
      "Sb in CH4 - pure methane\n"
     ]
    },
    {
     "name": "stderr",
     "output_type": "stream",
     "text": [
      "03b0:err:environ:init_peb starting L\"Z:\\\\Users\\\\brigitte\\\\SRIM\\\\TRIM.exe\" in experimental wow64 mode\n",
      "03b0:fixme:ole:OaBuildVersion Version value not known yet. Please investigate it !\n",
      "03b0:fixme:olepicture:OLEPictureImpl_SaveAsFile (00B92FA0)->(013B2118, 0, 00000000), hacked stub.\n",
      "03b0:fixme:imm:ImeSetActiveContext (002C01B8, 1): stub\n",
      "03b0:fixme:imm:ImmReleaseContext (004101E0, 002C01B8): stub\n",
      "03b0:fixme:olepicture:OLEPictureImpl_FindConnectionPoint no connection point for {33ad4ed2-6699-11cf-b70c-00aa0060d393}\n",
      "03b0:fixme:olepicture:OLEPictureImpl_FindConnectionPoint no connection point for {33ad4ed2-6699-11cf-b70c-00aa0060d393}\n",
      "03b0:fixme:olepicture:OLEPictureImpl_FindConnectionPoint no connection point for {33ad4ed2-6699-11cf-b70c-00aa0060d393}\n",
      "03b0:fixme:olepicture:OLEPictureImpl_FindConnectionPoint no connection point for {33ad4ed2-6699-11cf-b70c-00aa0060d393}\n",
      "03b0:fixme:olepicture:OLEPictureImpl_FindConnectionPoint no connection point for {33ad4ed2-6699-11cf-b70c-00aa0060d393}\n",
      "03b0:fixme:olepicture:OLEPictureImpl_FindConnectionPoint no connection point for {33ad4ed2-6699-11cf-b70c-00aa0060d393}\n",
      "03b0:fixme:olepicture:OLEPictureImpl_FindConnectionPoint no connection point for {33ad4ed2-6699-11cf-b70c-00aa0060d393}\n",
      "03b0:fixme:olepicture:OLEPictureImpl_FindConnectionPoint no connection point for {33ad4ed2-6699-11cf-b70c-00aa0060d393}\n",
      "03b0:fixme:olepicture:OLEPictureImpl_FindConnectionPoint no connection point for {33ad4ed2-6699-11cf-b70c-00aa0060d393}\n",
      "03b0:fixme:olepicture:OLEPictureImpl_FindConnectionPoint no connection point for {33ad4ed2-6699-11cf-b70c-00aa0060d393}\n",
      "03b0:fixme:olepicture:OLEPictureImpl_FindConnectionPoint no connection point for {33ad4ed2-6699-11cf-b70c-00aa0060d393}\n"
     ]
    },
    {
     "name": "stdout",
     "output_type": "stream",
     "text": [
      "\n",
      "Starting simulation for isotope   >>> Te <<<   ...\n",
      "     editing input file ...\n",
      "Te in CH4 - pure methane\n"
     ]
    },
    {
     "name": "stderr",
     "output_type": "stream",
     "text": [
      "03c0:err:environ:init_peb starting L\"Z:\\\\Users\\\\brigitte\\\\SRIM\\\\TRIM.exe\" in experimental wow64 mode\n",
      "03c0:fixme:ole:OaBuildVersion Version value not known yet. Please investigate it !\n",
      "03c0:fixme:olepicture:OLEPictureImpl_SaveAsFile (00B92FA0)->(013B2118, 0, 00000000), hacked stub.\n",
      "03c0:fixme:imm:ImeSetActiveContext (002D01B8, 1): stub\n",
      "03c0:fixme:imm:ImmReleaseContext (002E00FA, 002D01B8): stub\n",
      "03c0:fixme:olepicture:OLEPictureImpl_FindConnectionPoint no connection point for {33ad4ed2-6699-11cf-b70c-00aa0060d393}\n",
      "03c0:fixme:olepicture:OLEPictureImpl_FindConnectionPoint no connection point for {33ad4ed2-6699-11cf-b70c-00aa0060d393}\n",
      "03c0:fixme:olepicture:OLEPictureImpl_FindConnectionPoint no connection point for {33ad4ed2-6699-11cf-b70c-00aa0060d393}\n",
      "03c0:fixme:olepicture:OLEPictureImpl_FindConnectionPoint no connection point for {33ad4ed2-6699-11cf-b70c-00aa0060d393}\n",
      "03c0:fixme:olepicture:OLEPictureImpl_FindConnectionPoint no connection point for {33ad4ed2-6699-11cf-b70c-00aa0060d393}\n",
      "03c0:fixme:olepicture:OLEPictureImpl_FindConnectionPoint no connection point for {33ad4ed2-6699-11cf-b70c-00aa0060d393}\n",
      "03c0:fixme:olepicture:OLEPictureImpl_FindConnectionPoint no connection point for {33ad4ed2-6699-11cf-b70c-00aa0060d393}\n",
      "03c0:fixme:olepicture:OLEPictureImpl_FindConnectionPoint no connection point for {33ad4ed2-6699-11cf-b70c-00aa0060d393}\n",
      "03c0:fixme:olepicture:OLEPictureImpl_FindConnectionPoint no connection point for {33ad4ed2-6699-11cf-b70c-00aa0060d393}\n",
      "03c0:fixme:olepicture:OLEPictureImpl_FindConnectionPoint no connection point for {33ad4ed2-6699-11cf-b70c-00aa0060d393}\n",
      "03c0:fixme:olepicture:OLEPictureImpl_FindConnectionPoint no connection point for {33ad4ed2-6699-11cf-b70c-00aa0060d393}\n"
     ]
    },
    {
     "name": "stdout",
     "output_type": "stream",
     "text": [
      "\n",
      "Starting simulation for isotope   >>> I <<<   ...\n",
      "     editing input file ...\n",
      "I in CH4 - pure methane\n"
     ]
    },
    {
     "name": "stderr",
     "output_type": "stream",
     "text": [
      "03d0:err:environ:init_peb starting L\"Z:\\\\Users\\\\brigitte\\\\SRIM\\\\TRIM.exe\" in experimental wow64 mode\n",
      "03d0:fixme:ole:OaBuildVersion Version value not known yet. Please investigate it !\n",
      "03d0:fixme:olepicture:OLEPictureImpl_SaveAsFile (00B92FA0)->(013B2118, 0, 00000000), hacked stub.\n",
      "03d0:fixme:imm:ImeSetActiveContext (002E01B8, 1): stub\n",
      "03d0:fixme:imm:ImmReleaseContext (0039008A, 002E01B8): stub\n",
      "03d0:fixme:olepicture:OLEPictureImpl_FindConnectionPoint no connection point for {33ad4ed2-6699-11cf-b70c-00aa0060d393}\n",
      "03d0:fixme:olepicture:OLEPictureImpl_FindConnectionPoint no connection point for {33ad4ed2-6699-11cf-b70c-00aa0060d393}\n",
      "03d0:fixme:olepicture:OLEPictureImpl_FindConnectionPoint no connection point for {33ad4ed2-6699-11cf-b70c-00aa0060d393}\n",
      "03d0:fixme:olepicture:OLEPictureImpl_FindConnectionPoint no connection point for {33ad4ed2-6699-11cf-b70c-00aa0060d393}\n",
      "03d0:fixme:olepicture:OLEPictureImpl_FindConnectionPoint no connection point for {33ad4ed2-6699-11cf-b70c-00aa0060d393}\n",
      "03d0:fixme:olepicture:OLEPictureImpl_FindConnectionPoint no connection point for {33ad4ed2-6699-11cf-b70c-00aa0060d393}\n",
      "03d0:fixme:olepicture:OLEPictureImpl_FindConnectionPoint no connection point for {33ad4ed2-6699-11cf-b70c-00aa0060d393}\n",
      "03d0:fixme:olepicture:OLEPictureImpl_FindConnectionPoint no connection point for {33ad4ed2-6699-11cf-b70c-00aa0060d393}\n",
      "03d0:fixme:olepicture:OLEPictureImpl_FindConnectionPoint no connection point for {33ad4ed2-6699-11cf-b70c-00aa0060d393}\n",
      "03d0:fixme:olepicture:OLEPictureImpl_FindConnectionPoint no connection point for {33ad4ed2-6699-11cf-b70c-00aa0060d393}\n",
      "03d0:fixme:olepicture:OLEPictureImpl_FindConnectionPoint no connection point for {33ad4ed2-6699-11cf-b70c-00aa0060d393}\n"
     ]
    },
    {
     "name": "stdout",
     "output_type": "stream",
     "text": [
      "\n",
      "Starting simulation for isotope   >>> Xe <<<   ...\n",
      "     editing input file ...\n",
      "Xe in CH4 - pure methane\n"
     ]
    },
    {
     "name": "stderr",
     "output_type": "stream",
     "text": [
      "03e0:err:environ:init_peb starting L\"Z:\\\\Users\\\\brigitte\\\\SRIM\\\\TRIM.exe\" in experimental wow64 mode\n",
      "03e0:fixme:ole:OaBuildVersion Version value not known yet. Please investigate it !\n",
      "03e0:fixme:olepicture:OLEPictureImpl_SaveAsFile (00B92FA0)->(013B2118, 0, 00000000), hacked stub.\n",
      "03e0:fixme:imm:ImeSetActiveContext (003C01B0, 1): stub\n",
      "03e0:fixme:imm:ImmReleaseContext (003201BE, 003C01B0): stub\n",
      "03e0:fixme:olepicture:OLEPictureImpl_FindConnectionPoint no connection point for {33ad4ed2-6699-11cf-b70c-00aa0060d393}\n",
      "03e0:fixme:olepicture:OLEPictureImpl_FindConnectionPoint no connection point for {33ad4ed2-6699-11cf-b70c-00aa0060d393}\n",
      "03e0:fixme:olepicture:OLEPictureImpl_FindConnectionPoint no connection point for {33ad4ed2-6699-11cf-b70c-00aa0060d393}\n",
      "03e0:fixme:olepicture:OLEPictureImpl_FindConnectionPoint no connection point for {33ad4ed2-6699-11cf-b70c-00aa0060d393}\n",
      "03e0:fixme:olepicture:OLEPictureImpl_FindConnectionPoint no connection point for {33ad4ed2-6699-11cf-b70c-00aa0060d393}\n",
      "03e0:fixme:olepicture:OLEPictureImpl_FindConnectionPoint no connection point for {33ad4ed2-6699-11cf-b70c-00aa0060d393}\n",
      "03e0:fixme:olepicture:OLEPictureImpl_FindConnectionPoint no connection point for {33ad4ed2-6699-11cf-b70c-00aa0060d393}\n",
      "03e0:fixme:olepicture:OLEPictureImpl_FindConnectionPoint no connection point for {33ad4ed2-6699-11cf-b70c-00aa0060d393}\n",
      "03e0:fixme:olepicture:OLEPictureImpl_FindConnectionPoint no connection point for {33ad4ed2-6699-11cf-b70c-00aa0060d393}\n",
      "03e0:fixme:olepicture:OLEPictureImpl_FindConnectionPoint no connection point for {33ad4ed2-6699-11cf-b70c-00aa0060d393}\n",
      "03e0:fixme:olepicture:OLEPictureImpl_FindConnectionPoint no connection point for {33ad4ed2-6699-11cf-b70c-00aa0060d393}\n"
     ]
    },
    {
     "name": "stdout",
     "output_type": "stream",
     "text": [
      "\n",
      "Starting simulation for isotope   >>> Cs <<<   ...\n",
      "     editing input file ...\n",
      "Cs in CH4 - pure methane\n"
     ]
    },
    {
     "name": "stderr",
     "output_type": "stream",
     "text": [
      "03f0:err:environ:init_peb starting L\"Z:\\\\Users\\\\brigitte\\\\SRIM\\\\TRIM.exe\" in experimental wow64 mode\n",
      "03f0:fixme:ole:OaBuildVersion Version value not known yet. Please investigate it !\n",
      "03f0:fixme:olepicture:OLEPictureImpl_SaveAsFile (00B92FA0)->(013B2118, 0, 00000000), hacked stub.\n",
      "03f0:fixme:imm:ImeSetActiveContext (003001C2, 1): stub\n",
      "03f0:fixme:imm:ImmReleaseContext (004500D6, 003001C2): stub\n",
      "03f0:fixme:olepicture:OLEPictureImpl_FindConnectionPoint no connection point for {33ad4ed2-6699-11cf-b70c-00aa0060d393}\n",
      "03f0:fixme:olepicture:OLEPictureImpl_FindConnectionPoint no connection point for {33ad4ed2-6699-11cf-b70c-00aa0060d393}\n",
      "03f0:fixme:olepicture:OLEPictureImpl_FindConnectionPoint no connection point for {33ad4ed2-6699-11cf-b70c-00aa0060d393}\n",
      "03f0:fixme:olepicture:OLEPictureImpl_FindConnectionPoint no connection point for {33ad4ed2-6699-11cf-b70c-00aa0060d393}\n",
      "03f0:fixme:olepicture:OLEPictureImpl_FindConnectionPoint no connection point for {33ad4ed2-6699-11cf-b70c-00aa0060d393}\n",
      "03f0:fixme:olepicture:OLEPictureImpl_FindConnectionPoint no connection point for {33ad4ed2-6699-11cf-b70c-00aa0060d393}\n",
      "03f0:fixme:olepicture:OLEPictureImpl_FindConnectionPoint no connection point for {33ad4ed2-6699-11cf-b70c-00aa0060d393}\n",
      "03f0:fixme:olepicture:OLEPictureImpl_FindConnectionPoint no connection point for {33ad4ed2-6699-11cf-b70c-00aa0060d393}\n",
      "03f0:fixme:olepicture:OLEPictureImpl_FindConnectionPoint no connection point for {33ad4ed2-6699-11cf-b70c-00aa0060d393}\n",
      "03f0:fixme:olepicture:OLEPictureImpl_FindConnectionPoint no connection point for {33ad4ed2-6699-11cf-b70c-00aa0060d393}\n",
      "03f0:fixme:olepicture:OLEPictureImpl_FindConnectionPoint no connection point for {33ad4ed2-6699-11cf-b70c-00aa0060d393}\n"
     ]
    },
    {
     "name": "stdout",
     "output_type": "stream",
     "text": [
      "\n",
      "Starting simulation for isotope   >>> Ba <<<   ...\n",
      "     editing input file ...\n",
      "Ba in CH4 - pure methane\n"
     ]
    },
    {
     "name": "stderr",
     "output_type": "stream",
     "text": [
      "0400:err:environ:init_peb starting L\"Z:\\\\Users\\\\brigitte\\\\SRIM\\\\TRIM.exe\" in experimental wow64 mode\n",
      "0400:fixme:ole:OaBuildVersion Version value not known yet. Please investigate it !\n",
      "0400:fixme:olepicture:OLEPictureImpl_SaveAsFile (00B92FA0)->(013B2118, 0, 00000000), hacked stub.\n",
      "0400:fixme:imm:ImeSetActiveContext (003101C2, 1): stub\n",
      "0400:fixme:imm:ImmReleaseContext (00400098, 003101C2): stub\n",
      "0400:fixme:olepicture:OLEPictureImpl_FindConnectionPoint no connection point for {33ad4ed2-6699-11cf-b70c-00aa0060d393}\n",
      "0400:fixme:olepicture:OLEPictureImpl_FindConnectionPoint no connection point for {33ad4ed2-6699-11cf-b70c-00aa0060d393}\n",
      "0400:fixme:olepicture:OLEPictureImpl_FindConnectionPoint no connection point for {33ad4ed2-6699-11cf-b70c-00aa0060d393}\n",
      "0400:fixme:olepicture:OLEPictureImpl_FindConnectionPoint no connection point for {33ad4ed2-6699-11cf-b70c-00aa0060d393}\n",
      "0400:fixme:olepicture:OLEPictureImpl_FindConnectionPoint no connection point for {33ad4ed2-6699-11cf-b70c-00aa0060d393}\n",
      "0400:fixme:olepicture:OLEPictureImpl_FindConnectionPoint no connection point for {33ad4ed2-6699-11cf-b70c-00aa0060d393}\n",
      "0400:fixme:olepicture:OLEPictureImpl_FindConnectionPoint no connection point for {33ad4ed2-6699-11cf-b70c-00aa0060d393}\n",
      "0400:fixme:olepicture:OLEPictureImpl_FindConnectionPoint no connection point for {33ad4ed2-6699-11cf-b70c-00aa0060d393}\n",
      "0400:fixme:olepicture:OLEPictureImpl_FindConnectionPoint no connection point for {33ad4ed2-6699-11cf-b70c-00aa0060d393}\n",
      "0400:fixme:olepicture:OLEPictureImpl_FindConnectionPoint no connection point for {33ad4ed2-6699-11cf-b70c-00aa0060d393}\n",
      "0400:fixme:olepicture:OLEPictureImpl_FindConnectionPoint no connection point for {33ad4ed2-6699-11cf-b70c-00aa0060d393}\n"
     ]
    },
    {
     "name": "stdout",
     "output_type": "stream",
     "text": [
      "\n",
      "Starting simulation for isotope   >>> La <<<   ...\n",
      "     editing input file ...\n",
      "La in CH4 - pure methane\n"
     ]
    },
    {
     "name": "stderr",
     "output_type": "stream",
     "text": [
      "0410:err:environ:init_peb starting L\"Z:\\\\Users\\\\brigitte\\\\SRIM\\\\TRIM.exe\" in experimental wow64 mode\n",
      "0410:fixme:ole:OaBuildVersion Version value not known yet. Please investigate it !\n",
      "0410:fixme:olepicture:OLEPictureImpl_SaveAsFile (00B92FA0)->(013B2118, 0, 00000000), hacked stub.\n",
      "0410:fixme:imm:ImeSetActiveContext (003201C2, 1): stub\n",
      "0410:fixme:imm:ImmReleaseContext (003601A8, 003201C2): stub\n",
      "0410:fixme:olepicture:OLEPictureImpl_FindConnectionPoint no connection point for {33ad4ed2-6699-11cf-b70c-00aa0060d393}\n",
      "0410:fixme:olepicture:OLEPictureImpl_FindConnectionPoint no connection point for {33ad4ed2-6699-11cf-b70c-00aa0060d393}\n",
      "0410:fixme:olepicture:OLEPictureImpl_FindConnectionPoint no connection point for {33ad4ed2-6699-11cf-b70c-00aa0060d393}\n",
      "0410:fixme:olepicture:OLEPictureImpl_FindConnectionPoint no connection point for {33ad4ed2-6699-11cf-b70c-00aa0060d393}\n",
      "0410:fixme:olepicture:OLEPictureImpl_FindConnectionPoint no connection point for {33ad4ed2-6699-11cf-b70c-00aa0060d393}\n",
      "0410:fixme:olepicture:OLEPictureImpl_FindConnectionPoint no connection point for {33ad4ed2-6699-11cf-b70c-00aa0060d393}\n",
      "0410:fixme:olepicture:OLEPictureImpl_FindConnectionPoint no connection point for {33ad4ed2-6699-11cf-b70c-00aa0060d393}\n",
      "0410:fixme:olepicture:OLEPictureImpl_FindConnectionPoint no connection point for {33ad4ed2-6699-11cf-b70c-00aa0060d393}\n",
      "0410:fixme:olepicture:OLEPictureImpl_FindConnectionPoint no connection point for {33ad4ed2-6699-11cf-b70c-00aa0060d393}\n",
      "0410:fixme:olepicture:OLEPictureImpl_FindConnectionPoint no connection point for {33ad4ed2-6699-11cf-b70c-00aa0060d393}\n",
      "0410:fixme:olepicture:OLEPictureImpl_FindConnectionPoint no connection point for {33ad4ed2-6699-11cf-b70c-00aa0060d393}\n"
     ]
    },
    {
     "name": "stdout",
     "output_type": "stream",
     "text": [
      "\n",
      "Starting simulation for isotope   >>> Ce <<<   ...\n",
      "     editing input file ...\n",
      "Ce in CH4 - pure methane\n"
     ]
    },
    {
     "name": "stderr",
     "output_type": "stream",
     "text": [
      "0420:err:environ:init_peb starting L\"Z:\\\\Users\\\\brigitte\\\\SRIM\\\\TRIM.exe\" in experimental wow64 mode\n",
      "0420:fixme:ole:OaBuildVersion Version value not known yet. Please investigate it !\n",
      "0420:fixme:olepicture:OLEPictureImpl_SaveAsFile (00B92FA0)->(013B2118, 0, 00000000), hacked stub.\n",
      "0420:fixme:imm:ImeSetActiveContext (003F01BE, 1): stub\n",
      "0420:fixme:imm:ImmReleaseContext (003801AE, 003F01BE): stub\n",
      "0420:fixme:olepicture:OLEPictureImpl_FindConnectionPoint no connection point for {33ad4ed2-6699-11cf-b70c-00aa0060d393}\n",
      "0420:fixme:olepicture:OLEPictureImpl_FindConnectionPoint no connection point for {33ad4ed2-6699-11cf-b70c-00aa0060d393}\n",
      "0420:fixme:olepicture:OLEPictureImpl_FindConnectionPoint no connection point for {33ad4ed2-6699-11cf-b70c-00aa0060d393}\n",
      "0420:fixme:olepicture:OLEPictureImpl_FindConnectionPoint no connection point for {33ad4ed2-6699-11cf-b70c-00aa0060d393}\n",
      "0420:fixme:olepicture:OLEPictureImpl_FindConnectionPoint no connection point for {33ad4ed2-6699-11cf-b70c-00aa0060d393}\n",
      "0420:fixme:olepicture:OLEPictureImpl_FindConnectionPoint no connection point for {33ad4ed2-6699-11cf-b70c-00aa0060d393}\n",
      "0420:fixme:olepicture:OLEPictureImpl_FindConnectionPoint no connection point for {33ad4ed2-6699-11cf-b70c-00aa0060d393}\n",
      "0420:fixme:olepicture:OLEPictureImpl_FindConnectionPoint no connection point for {33ad4ed2-6699-11cf-b70c-00aa0060d393}\n",
      "0420:fixme:olepicture:OLEPictureImpl_FindConnectionPoint no connection point for {33ad4ed2-6699-11cf-b70c-00aa0060d393}\n",
      "0420:fixme:olepicture:OLEPictureImpl_FindConnectionPoint no connection point for {33ad4ed2-6699-11cf-b70c-00aa0060d393}\n",
      "0420:fixme:olepicture:OLEPictureImpl_FindConnectionPoint no connection point for {33ad4ed2-6699-11cf-b70c-00aa0060d393}\n"
     ]
    },
    {
     "name": "stdout",
     "output_type": "stream",
     "text": [
      "\n",
      "Starting simulation for isotope   >>> Pr <<<   ...\n",
      "     editing input file ...\n",
      "Pr in CH4 - pure methane\n"
     ]
    },
    {
     "name": "stderr",
     "output_type": "stream",
     "text": [
      "0430:err:environ:init_peb starting L\"Z:\\\\Users\\\\brigitte\\\\SRIM\\\\TRIM.exe\" in experimental wow64 mode\n",
      "0430:fixme:ole:OaBuildVersion Version value not known yet. Please investigate it !\n",
      "0430:fixme:olepicture:OLEPictureImpl_SaveAsFile (00B92FA0)->(013B2118, 0, 00000000), hacked stub.\n",
      "0430:fixme:imm:ImeSetActiveContext (004001BE, 1): stub\n",
      "0430:fixme:imm:ImmReleaseContext (003600CA, 004001BE): stub\n",
      "0430:fixme:olepicture:OLEPictureImpl_FindConnectionPoint no connection point for {33ad4ed2-6699-11cf-b70c-00aa0060d393}\n",
      "0430:fixme:olepicture:OLEPictureImpl_FindConnectionPoint no connection point for {33ad4ed2-6699-11cf-b70c-00aa0060d393}\n",
      "0430:fixme:olepicture:OLEPictureImpl_FindConnectionPoint no connection point for {33ad4ed2-6699-11cf-b70c-00aa0060d393}\n",
      "0430:fixme:olepicture:OLEPictureImpl_FindConnectionPoint no connection point for {33ad4ed2-6699-11cf-b70c-00aa0060d393}\n",
      "0430:fixme:olepicture:OLEPictureImpl_FindConnectionPoint no connection point for {33ad4ed2-6699-11cf-b70c-00aa0060d393}\n",
      "0430:fixme:olepicture:OLEPictureImpl_FindConnectionPoint no connection point for {33ad4ed2-6699-11cf-b70c-00aa0060d393}\n",
      "0430:fixme:olepicture:OLEPictureImpl_FindConnectionPoint no connection point for {33ad4ed2-6699-11cf-b70c-00aa0060d393}\n",
      "0430:fixme:olepicture:OLEPictureImpl_FindConnectionPoint no connection point for {33ad4ed2-6699-11cf-b70c-00aa0060d393}\n",
      "0430:fixme:olepicture:OLEPictureImpl_FindConnectionPoint no connection point for {33ad4ed2-6699-11cf-b70c-00aa0060d393}\n",
      "0430:fixme:olepicture:OLEPictureImpl_FindConnectionPoint no connection point for {33ad4ed2-6699-11cf-b70c-00aa0060d393}\n",
      "0430:fixme:olepicture:OLEPictureImpl_FindConnectionPoint no connection point for {33ad4ed2-6699-11cf-b70c-00aa0060d393}\n"
     ]
    },
    {
     "name": "stdout",
     "output_type": "stream",
     "text": [
      "\n",
      "Starting simulation for isotope   >>> Nd <<<   ...\n",
      "     editing input file ...\n",
      "Nd in CH4 - pure methane\n"
     ]
    },
    {
     "name": "stderr",
     "output_type": "stream",
     "text": [
      "0440:err:environ:init_peb starting L\"Z:\\\\Users\\\\brigitte\\\\SRIM\\\\TRIM.exe\" in experimental wow64 mode\n",
      "0440:fixme:ole:OaBuildVersion Version value not known yet. Please investigate it !\n",
      "0440:fixme:olepicture:OLEPictureImpl_SaveAsFile (00B92FA0)->(013B2118, 0, 00000000), hacked stub.\n",
      "0440:fixme:imm:ImeSetActiveContext (004101BE, 1): stub\n",
      "0440:fixme:imm:ImmReleaseContext (004301B0, 004101BE): stub\n",
      "0440:fixme:olepicture:OLEPictureImpl_FindConnectionPoint no connection point for {33ad4ed2-6699-11cf-b70c-00aa0060d393}\n",
      "0440:fixme:olepicture:OLEPictureImpl_FindConnectionPoint no connection point for {33ad4ed2-6699-11cf-b70c-00aa0060d393}\n",
      "0440:fixme:olepicture:OLEPictureImpl_FindConnectionPoint no connection point for {33ad4ed2-6699-11cf-b70c-00aa0060d393}\n",
      "0440:fixme:olepicture:OLEPictureImpl_FindConnectionPoint no connection point for {33ad4ed2-6699-11cf-b70c-00aa0060d393}\n",
      "0440:fixme:olepicture:OLEPictureImpl_FindConnectionPoint no connection point for {33ad4ed2-6699-11cf-b70c-00aa0060d393}\n",
      "0440:fixme:olepicture:OLEPictureImpl_FindConnectionPoint no connection point for {33ad4ed2-6699-11cf-b70c-00aa0060d393}\n",
      "0440:fixme:olepicture:OLEPictureImpl_FindConnectionPoint no connection point for {33ad4ed2-6699-11cf-b70c-00aa0060d393}\n",
      "0440:fixme:olepicture:OLEPictureImpl_FindConnectionPoint no connection point for {33ad4ed2-6699-11cf-b70c-00aa0060d393}\n",
      "0440:fixme:olepicture:OLEPictureImpl_FindConnectionPoint no connection point for {33ad4ed2-6699-11cf-b70c-00aa0060d393}\n",
      "0440:fixme:olepicture:OLEPictureImpl_FindConnectionPoint no connection point for {33ad4ed2-6699-11cf-b70c-00aa0060d393}\n",
      "0440:fixme:olepicture:OLEPictureImpl_FindConnectionPoint no connection point for {33ad4ed2-6699-11cf-b70c-00aa0060d393}\n"
     ]
    },
    {
     "name": "stdout",
     "output_type": "stream",
     "text": [
      "\n",
      "Starting simulation for isotope   >>> Pm <<<   ...\n",
      "     editing input file ...\n",
      "Pm in CH4 - pure methane\n"
     ]
    },
    {
     "name": "stderr",
     "output_type": "stream",
     "text": [
      "0450:err:environ:init_peb starting L\"Z:\\\\Users\\\\brigitte\\\\SRIM\\\\TRIM.exe\" in experimental wow64 mode\n",
      "0450:fixme:ole:OaBuildVersion Version value not known yet. Please investigate it !\n",
      "0450:fixme:olepicture:OLEPictureImpl_SaveAsFile (00B92FA0)->(013B2118, 0, 00000000), hacked stub.\n",
      "0450:fixme:imm:ImeSetActiveContext (003801B4, 1): stub\n",
      "0450:fixme:imm:ImmReleaseContext (003B01AE, 003801B4): stub\n",
      "0450:fixme:olepicture:OLEPictureImpl_FindConnectionPoint no connection point for {33ad4ed2-6699-11cf-b70c-00aa0060d393}\n",
      "0450:fixme:olepicture:OLEPictureImpl_FindConnectionPoint no connection point for {33ad4ed2-6699-11cf-b70c-00aa0060d393}\n",
      "0450:fixme:olepicture:OLEPictureImpl_FindConnectionPoint no connection point for {33ad4ed2-6699-11cf-b70c-00aa0060d393}\n",
      "0450:fixme:olepicture:OLEPictureImpl_FindConnectionPoint no connection point for {33ad4ed2-6699-11cf-b70c-00aa0060d393}\n",
      "0450:fixme:olepicture:OLEPictureImpl_FindConnectionPoint no connection point for {33ad4ed2-6699-11cf-b70c-00aa0060d393}\n",
      "0450:fixme:olepicture:OLEPictureImpl_FindConnectionPoint no connection point for {33ad4ed2-6699-11cf-b70c-00aa0060d393}\n",
      "0450:fixme:olepicture:OLEPictureImpl_FindConnectionPoint no connection point for {33ad4ed2-6699-11cf-b70c-00aa0060d393}\n",
      "0450:fixme:olepicture:OLEPictureImpl_FindConnectionPoint no connection point for {33ad4ed2-6699-11cf-b70c-00aa0060d393}\n",
      "0450:fixme:olepicture:OLEPictureImpl_FindConnectionPoint no connection point for {33ad4ed2-6699-11cf-b70c-00aa0060d393}\n",
      "0450:fixme:olepicture:OLEPictureImpl_FindConnectionPoint no connection point for {33ad4ed2-6699-11cf-b70c-00aa0060d393}\n",
      "0450:fixme:olepicture:OLEPictureImpl_FindConnectionPoint no connection point for {33ad4ed2-6699-11cf-b70c-00aa0060d393}\n"
     ]
    },
    {
     "name": "stdout",
     "output_type": "stream",
     "text": [
      "\n",
      "Starting simulation for isotope   >>> Sm <<<   ...\n",
      "     editing input file ...\n",
      "Sm in CH4 - pure methane\n"
     ]
    },
    {
     "name": "stderr",
     "output_type": "stream",
     "text": [
      "0460:err:environ:init_peb starting L\"Z:\\\\Users\\\\brigitte\\\\SRIM\\\\TRIM.exe\" in experimental wow64 mode\n",
      "0460:fixme:ole:OaBuildVersion Version value not known yet. Please investigate it !\n",
      "0460:fixme:olepicture:OLEPictureImpl_SaveAsFile (00B92FA0)->(013B2118, 0, 00000000), hacked stub.\n",
      "0460:fixme:imm:ImeSetActiveContext (003901B4, 1): stub\n",
      "0460:fixme:imm:ImmReleaseContext (004800F2, 003901B4): stub\n",
      "0460:fixme:olepicture:OLEPictureImpl_FindConnectionPoint no connection point for {33ad4ed2-6699-11cf-b70c-00aa0060d393}\n",
      "0460:fixme:olepicture:OLEPictureImpl_FindConnectionPoint no connection point for {33ad4ed2-6699-11cf-b70c-00aa0060d393}\n",
      "0460:fixme:olepicture:OLEPictureImpl_FindConnectionPoint no connection point for {33ad4ed2-6699-11cf-b70c-00aa0060d393}\n",
      "0460:fixme:olepicture:OLEPictureImpl_FindConnectionPoint no connection point for {33ad4ed2-6699-11cf-b70c-00aa0060d393}\n",
      "0460:fixme:olepicture:OLEPictureImpl_FindConnectionPoint no connection point for {33ad4ed2-6699-11cf-b70c-00aa0060d393}\n",
      "0460:fixme:olepicture:OLEPictureImpl_FindConnectionPoint no connection point for {33ad4ed2-6699-11cf-b70c-00aa0060d393}\n",
      "0460:fixme:olepicture:OLEPictureImpl_FindConnectionPoint no connection point for {33ad4ed2-6699-11cf-b70c-00aa0060d393}\n",
      "0460:fixme:olepicture:OLEPictureImpl_FindConnectionPoint no connection point for {33ad4ed2-6699-11cf-b70c-00aa0060d393}\n",
      "0460:fixme:olepicture:OLEPictureImpl_FindConnectionPoint no connection point for {33ad4ed2-6699-11cf-b70c-00aa0060d393}\n",
      "0460:fixme:olepicture:OLEPictureImpl_FindConnectionPoint no connection point for {33ad4ed2-6699-11cf-b70c-00aa0060d393}\n",
      "0460:fixme:olepicture:OLEPictureImpl_FindConnectionPoint no connection point for {33ad4ed2-6699-11cf-b70c-00aa0060d393}\n"
     ]
    },
    {
     "name": "stdout",
     "output_type": "stream",
     "text": [
      "\n",
      "Starting simulation for isotope   >>> Eu <<<   ...\n",
      "     editing input file ...\n",
      "Eu in CH4 - pure methane\n"
     ]
    },
    {
     "name": "stderr",
     "output_type": "stream",
     "text": [
      "0470:err:environ:init_peb starting L\"Z:\\\\Users\\\\brigitte\\\\SRIM\\\\TRIM.exe\" in experimental wow64 mode\n",
      "0470:fixme:ole:OaBuildVersion Version value not known yet. Please investigate it !\n",
      "0470:fixme:olepicture:OLEPictureImpl_SaveAsFile (00B92FA0)->(013B2118, 0, 00000000), hacked stub.\n",
      "0470:fixme:imm:ImeSetActiveContext (003901D2, 1): stub\n",
      "0470:fixme:imm:ImmReleaseContext (003200F4, 003901D2): stub\n",
      "0470:fixme:olepicture:OLEPictureImpl_FindConnectionPoint no connection point for {33ad4ed2-6699-11cf-b70c-00aa0060d393}\n",
      "0470:fixme:olepicture:OLEPictureImpl_FindConnectionPoint no connection point for {33ad4ed2-6699-11cf-b70c-00aa0060d393}\n",
      "0470:fixme:olepicture:OLEPictureImpl_FindConnectionPoint no connection point for {33ad4ed2-6699-11cf-b70c-00aa0060d393}\n",
      "0470:fixme:olepicture:OLEPictureImpl_FindConnectionPoint no connection point for {33ad4ed2-6699-11cf-b70c-00aa0060d393}\n",
      "0470:fixme:olepicture:OLEPictureImpl_FindConnectionPoint no connection point for {33ad4ed2-6699-11cf-b70c-00aa0060d393}\n",
      "0470:fixme:olepicture:OLEPictureImpl_FindConnectionPoint no connection point for {33ad4ed2-6699-11cf-b70c-00aa0060d393}\n",
      "0470:fixme:olepicture:OLEPictureImpl_FindConnectionPoint no connection point for {33ad4ed2-6699-11cf-b70c-00aa0060d393}\n",
      "0470:fixme:olepicture:OLEPictureImpl_FindConnectionPoint no connection point for {33ad4ed2-6699-11cf-b70c-00aa0060d393}\n",
      "0470:fixme:olepicture:OLEPictureImpl_FindConnectionPoint no connection point for {33ad4ed2-6699-11cf-b70c-00aa0060d393}\n",
      "0470:fixme:olepicture:OLEPictureImpl_FindConnectionPoint no connection point for {33ad4ed2-6699-11cf-b70c-00aa0060d393}\n",
      "0470:fixme:olepicture:OLEPictureImpl_FindConnectionPoint no connection point for {33ad4ed2-6699-11cf-b70c-00aa0060d393}\n"
     ]
    },
    {
     "name": "stdout",
     "output_type": "stream",
     "text": [
      "   done\n",
      "Simulation complete\n"
     ]
    },
    {
     "data": {
      "image/png": "[encoded data removed]",
      "text/plain": [
       "<Figure size 640x480 with 1 Axes>"
      ]
     },
     "metadata": {},
     "output_type": "display_data"
    },
    {
     "name": "stdout",
     "output_type": "stream",
     "text": [
      "weighted stddev of ratios: 0.3481022768551708 \n",
      "simple stddev of ratios: 0.007813021728880695\n"
     ]
    }
   ],
   "source": [
    "reload(simulation_lib); from simulation_lib import *  \n",
    "reload(aux_functions); from aux_functions import *\n",
    "\n",
    "#gas_density and ugas_density defined previously\n",
    "gas_density_list = [gas_density-ugas_density, gas_density+ugas_density]\n",
    "\n",
    "print(gas_density_list)\n",
    "\n",
    "results = []\n",
    "\n",
    "for gas_density in gas_density_list:\n",
    "\n",
    "    urCG, uaverage_range, uXRratio = start_simulation_uncertainty(srim_path, input_list_path, gas_density, layer_width=layer_width)\n",
    "\n",
    "    uXRratio = np.array(uXRratio)\n",
    "    plt.hist(uXRratio, bins=20)\n",
    "    plt.show()\n",
    "\n",
    "    results.append([\"density g/cm3: \",gas_density,\"sum(uXRratio*yield_list/2)\", sum(uXRratio*yield_list/2),\"np.std(uXRratio)\", np.std(uXRratio)])\n",
    "    print(\"weighted stddev of ratios:\" ,sum(uXRratio*yield_list/2),\"\\nsimple stddev of ratios:\", np.std(uXRratio))\n",
    "\n"
   ]
  },
  {
   "cell_type": "code",
   "execution_count": 20,
   "id": "e8bb76bf",
   "metadata": {},
   "outputs": [
    {
     "name": "stdout",
     "output_type": "stream",
     "text": [
      "['density g/cm3: ', 0.0007210000000000001, 'sum(uXRratio*yield_list/2)', 0.34795741217197323, 'np.std(uXRratio)', 0.00781901060136355]\n",
      "['density g/cm3: ', 0.000737, 'sum(uXRratio*yield_list/2)', 0.3481022768551708, 'np.std(uXRratio)', 0.007813021728880695]\n",
      "Ratio uncertainty:\n",
      "    0.008905953052640768 \n",
      "stddev rho: 0.0014707632461557357    stddev simu:  0.008783669805360333\n",
      "Final result: \n",
      "     0.351 ± 0.009\n"
     ]
    }
   ],
   "source": [
    "reload(simulation_lib); from simulation_lib import *  \n",
    "reload(aux_functions); from aux_functions import *\n",
    "\n",
    "results1 = results[0]\n",
    "results2 = results[-1]\n",
    "\n",
    "print(results1)\n",
    "print(results2)\n",
    "\n",
    "uratio1 = results1[-3]; std_uratio1 = results1[-1]\n",
    "uratio2 = results2[-3]; std_uratio2 = results2[-1]\n",
    "\n",
    "stddevratios_rho = np.std([uratio1,uratio2,np.sum(XRratio*yield_list/2)])\n",
    "meanratios = np.mean([uratio1,uratio2,np.sum(XRratio*yield_list/2)])\n",
    "stddevsimu = (np.std(XRratio*yield_list/2))\n",
    "\n",
    "final_ratio_uncertainty = np.sqrt( (np.std(XRratio*yield_list/2))**2 + stddevratios_rho**2)# np.mean(XRratio*yield_list/2)*np.sqrt((stddevratios/meanratios)**2 + stddevsimu)\n",
    "print(\"Ratio uncertainty:\\n   \", final_ratio_uncertainty, \"\\nstddev rho:\" , stddevratios_rho, \"   stddev simu: \", stddevsimu)\n",
    "\n",
    "\n",
    "print(\"Final result: \\n     %.3f ± %.3f\" %(np.sum(XRratio*yield_list/2), final_ratio_uncertainty))"
   ]
  },
  {
   "cell_type": "code",
   "execution_count": null,
   "id": "f915ac0b",
   "metadata": {},
   "outputs": [],
   "source": []
  }
 ],
 "metadata": {
  "kernelspec": {
   "display_name": "base",
   "language": "python",
   "name": "python3"
  },
  "language_info": {
   "codemirror_mode": {
    "name": "ipython",
    "version": 3
   },
   "file_extension": ".py",
   "mimetype": "text/x-python",
   "name": "python",
   "nbconvert_exporter": "python",
   "pygments_lexer": "ipython3",
   "version": "3.11.5"
  }
 },
 "nbformat": 4,
 "nbformat_minor": 5
}
